{
  "cells": [
    {
      "cell_type": "markdown",
      "metadata": {
        "id": "view-in-github",
        "colab_type": "text"
      },
      "source": [
        "<a href=\"https://colab.research.google.com/github/a7madmostafa/Learn-ML-by-Projects/blob/main/Regression_Car_Price_Prediction.ipynb\" target=\"_parent\"><img src=\"https://colab.research.google.com/assets/colab-badge.svg\" alt=\"Open In Colab\"/></a>"
      ]
    },
    {
      "cell_type": "markdown",
      "source": [
        "**Learn Machine Learning by Projects** : Based on ML Bookcamp \n",
        "\n",
        "[The book](https://www.manning.com/books/machine-learning-bookcamp?a_aid=AGMLBookcamp&a_bid=2eb9ca01) , [Original Repo]( https://github.com/alexeygrigorev/mlbookcamp-code )\n",
        "\n",
        "<img src=\"https://images.manning.com/360/480/resize/book/d/f91ead8-e9eb-412e-8f75-5f2d7f588e67/Grigorev-MLB-HI.png\" width=\"200\">\n",
        "\n",
        "\n"
      ],
      "metadata": {
        "id": "bVP8Om5bFYs1"
      }
    },
    {
      "cell_type": "markdown",
      "source": [
        "# Reading Data"
      ],
      "metadata": {
        "id": "OPnAKv5VK5aI"
      }
    },
    {
      "cell_type": "code",
      "source": [
        "!git clone https://github.com/alexeygrigorev/mlbookcamp-code"
      ],
      "metadata": {
        "colab": {
          "base_uri": "https://localhost:8080/"
        },
        "id": "gMNJLzoyE8F0",
        "outputId": "dd8d1458-9317-42e1-e02f-437492f236ad"
      },
      "execution_count": 2,
      "outputs": [
        {
          "output_type": "stream",
          "name": "stdout",
          "text": [
            "Cloning into 'mlbookcamp-code'...\n",
            "remote: Enumerating objects: 2367, done.\u001b[K\n",
            "remote: Counting objects: 100% (751/751), done.\u001b[K\n",
            "remote: Compressing objects: 100% (188/188), done.\u001b[K\n",
            "remote: Total 2367 (delta 643), reused 563 (delta 563), pack-reused 1616\u001b[K\n",
            "Receiving objects: 100% (2367/2367), 7.18 MiB | 14.18 MiB/s, done.\n",
            "Resolving deltas: 100% (1454/1454), done.\n"
          ]
        }
      ]
    },
    {
      "cell_type": "code",
      "execution_count": 3,
      "metadata": {
        "id": "O161entbEr2x"
      },
      "outputs": [],
      "source": [
        "import pandas as pd\n",
        "import numpy as np\n",
        "\n",
        "import seaborn as sns\n",
        "sns.set()\n",
        "from matplotlib import pyplot as plt\n",
        "%matplotlib inline"
      ]
    },
    {
      "cell_type": "code",
      "execution_count": 4,
      "metadata": {
        "colab": {
          "base_uri": "https://localhost:8080/"
        },
        "id": "muHkfYZGEr20",
        "outputId": "359e5685-06d3-468f-f234-3f6b1bc74d2f"
      },
      "outputs": [
        {
          "output_type": "execute_result",
          "data": {
            "text/plain": [
              "11914"
            ]
          },
          "metadata": {},
          "execution_count": 4
        }
      ],
      "source": [
        "df = pd.read_csv('/content/mlbookcamp-code/chapter-02-car-price/data.csv')\n",
        "len(df)"
      ]
    },
    {
      "cell_type": "code",
      "execution_count": 5,
      "metadata": {
        "colab": {
          "base_uri": "https://localhost:8080/",
          "height": 478
        },
        "id": "2mNb5NQwEr21",
        "outputId": "4f8ca906-23e7-474d-d1df-b07c901afa57"
      },
      "outputs": [
        {
          "output_type": "execute_result",
          "data": {
            "text/plain": [
              "  Make       Model  Year             Engine Fuel Type  Engine HP  \\\n",
              "0  BMW  1 Series M  2011  premium unleaded (required)      335.0   \n",
              "1  BMW    1 Series  2011  premium unleaded (required)      300.0   \n",
              "2  BMW    1 Series  2011  premium unleaded (required)      300.0   \n",
              "3  BMW    1 Series  2011  premium unleaded (required)      230.0   \n",
              "4  BMW    1 Series  2011  premium unleaded (required)      230.0   \n",
              "\n",
              "   Engine Cylinders Transmission Type     Driven_Wheels  Number of Doors  \\\n",
              "0               6.0            MANUAL  rear wheel drive              2.0   \n",
              "1               6.0            MANUAL  rear wheel drive              2.0   \n",
              "2               6.0            MANUAL  rear wheel drive              2.0   \n",
              "3               6.0            MANUAL  rear wheel drive              2.0   \n",
              "4               6.0            MANUAL  rear wheel drive              2.0   \n",
              "\n",
              "                         Market Category Vehicle Size Vehicle Style  \\\n",
              "0  Factory Tuner,Luxury,High-Performance      Compact         Coupe   \n",
              "1                     Luxury,Performance      Compact   Convertible   \n",
              "2                Luxury,High-Performance      Compact         Coupe   \n",
              "3                     Luxury,Performance      Compact         Coupe   \n",
              "4                                 Luxury      Compact   Convertible   \n",
              "\n",
              "   highway MPG  city mpg  Popularity   MSRP  \n",
              "0           26        19        3916  46135  \n",
              "1           28        19        3916  40650  \n",
              "2           28        20        3916  36350  \n",
              "3           28        18        3916  29450  \n",
              "4           28        18        3916  34500  "
            ],
            "text/html": [
              "\n",
              "  <div id=\"df-db4b2dd1-3ae6-429d-89d0-7673e6566a30\">\n",
              "    <div class=\"colab-df-container\">\n",
              "      <div>\n",
              "<style scoped>\n",
              "    .dataframe tbody tr th:only-of-type {\n",
              "        vertical-align: middle;\n",
              "    }\n",
              "\n",
              "    .dataframe tbody tr th {\n",
              "        vertical-align: top;\n",
              "    }\n",
              "\n",
              "    .dataframe thead th {\n",
              "        text-align: right;\n",
              "    }\n",
              "</style>\n",
              "<table border=\"1\" class=\"dataframe\">\n",
              "  <thead>\n",
              "    <tr style=\"text-align: right;\">\n",
              "      <th></th>\n",
              "      <th>Make</th>\n",
              "      <th>Model</th>\n",
              "      <th>Year</th>\n",
              "      <th>Engine Fuel Type</th>\n",
              "      <th>Engine HP</th>\n",
              "      <th>Engine Cylinders</th>\n",
              "      <th>Transmission Type</th>\n",
              "      <th>Driven_Wheels</th>\n",
              "      <th>Number of Doors</th>\n",
              "      <th>Market Category</th>\n",
              "      <th>Vehicle Size</th>\n",
              "      <th>Vehicle Style</th>\n",
              "      <th>highway MPG</th>\n",
              "      <th>city mpg</th>\n",
              "      <th>Popularity</th>\n",
              "      <th>MSRP</th>\n",
              "    </tr>\n",
              "  </thead>\n",
              "  <tbody>\n",
              "    <tr>\n",
              "      <th>0</th>\n",
              "      <td>BMW</td>\n",
              "      <td>1 Series M</td>\n",
              "      <td>2011</td>\n",
              "      <td>premium unleaded (required)</td>\n",
              "      <td>335.0</td>\n",
              "      <td>6.0</td>\n",
              "      <td>MANUAL</td>\n",
              "      <td>rear wheel drive</td>\n",
              "      <td>2.0</td>\n",
              "      <td>Factory Tuner,Luxury,High-Performance</td>\n",
              "      <td>Compact</td>\n",
              "      <td>Coupe</td>\n",
              "      <td>26</td>\n",
              "      <td>19</td>\n",
              "      <td>3916</td>\n",
              "      <td>46135</td>\n",
              "    </tr>\n",
              "    <tr>\n",
              "      <th>1</th>\n",
              "      <td>BMW</td>\n",
              "      <td>1 Series</td>\n",
              "      <td>2011</td>\n",
              "      <td>premium unleaded (required)</td>\n",
              "      <td>300.0</td>\n",
              "      <td>6.0</td>\n",
              "      <td>MANUAL</td>\n",
              "      <td>rear wheel drive</td>\n",
              "      <td>2.0</td>\n",
              "      <td>Luxury,Performance</td>\n",
              "      <td>Compact</td>\n",
              "      <td>Convertible</td>\n",
              "      <td>28</td>\n",
              "      <td>19</td>\n",
              "      <td>3916</td>\n",
              "      <td>40650</td>\n",
              "    </tr>\n",
              "    <tr>\n",
              "      <th>2</th>\n",
              "      <td>BMW</td>\n",
              "      <td>1 Series</td>\n",
              "      <td>2011</td>\n",
              "      <td>premium unleaded (required)</td>\n",
              "      <td>300.0</td>\n",
              "      <td>6.0</td>\n",
              "      <td>MANUAL</td>\n",
              "      <td>rear wheel drive</td>\n",
              "      <td>2.0</td>\n",
              "      <td>Luxury,High-Performance</td>\n",
              "      <td>Compact</td>\n",
              "      <td>Coupe</td>\n",
              "      <td>28</td>\n",
              "      <td>20</td>\n",
              "      <td>3916</td>\n",
              "      <td>36350</td>\n",
              "    </tr>\n",
              "    <tr>\n",
              "      <th>3</th>\n",
              "      <td>BMW</td>\n",
              "      <td>1 Series</td>\n",
              "      <td>2011</td>\n",
              "      <td>premium unleaded (required)</td>\n",
              "      <td>230.0</td>\n",
              "      <td>6.0</td>\n",
              "      <td>MANUAL</td>\n",
              "      <td>rear wheel drive</td>\n",
              "      <td>2.0</td>\n",
              "      <td>Luxury,Performance</td>\n",
              "      <td>Compact</td>\n",
              "      <td>Coupe</td>\n",
              "      <td>28</td>\n",
              "      <td>18</td>\n",
              "      <td>3916</td>\n",
              "      <td>29450</td>\n",
              "    </tr>\n",
              "    <tr>\n",
              "      <th>4</th>\n",
              "      <td>BMW</td>\n",
              "      <td>1 Series</td>\n",
              "      <td>2011</td>\n",
              "      <td>premium unleaded (required)</td>\n",
              "      <td>230.0</td>\n",
              "      <td>6.0</td>\n",
              "      <td>MANUAL</td>\n",
              "      <td>rear wheel drive</td>\n",
              "      <td>2.0</td>\n",
              "      <td>Luxury</td>\n",
              "      <td>Compact</td>\n",
              "      <td>Convertible</td>\n",
              "      <td>28</td>\n",
              "      <td>18</td>\n",
              "      <td>3916</td>\n",
              "      <td>34500</td>\n",
              "    </tr>\n",
              "  </tbody>\n",
              "</table>\n",
              "</div>\n",
              "      <button class=\"colab-df-convert\" onclick=\"convertToInteractive('df-db4b2dd1-3ae6-429d-89d0-7673e6566a30')\"\n",
              "              title=\"Convert this dataframe to an interactive table.\"\n",
              "              style=\"display:none;\">\n",
              "        \n",
              "  <svg xmlns=\"http://www.w3.org/2000/svg\" height=\"24px\"viewBox=\"0 0 24 24\"\n",
              "       width=\"24px\">\n",
              "    <path d=\"M0 0h24v24H0V0z\" fill=\"none\"/>\n",
              "    <path d=\"M18.56 5.44l.94 2.06.94-2.06 2.06-.94-2.06-.94-.94-2.06-.94 2.06-2.06.94zm-11 1L8.5 8.5l.94-2.06 2.06-.94-2.06-.94L8.5 2.5l-.94 2.06-2.06.94zm10 10l.94 2.06.94-2.06 2.06-.94-2.06-.94-.94-2.06-.94 2.06-2.06.94z\"/><path d=\"M17.41 7.96l-1.37-1.37c-.4-.4-.92-.59-1.43-.59-.52 0-1.04.2-1.43.59L10.3 9.45l-7.72 7.72c-.78.78-.78 2.05 0 2.83L4 21.41c.39.39.9.59 1.41.59.51 0 1.02-.2 1.41-.59l7.78-7.78 2.81-2.81c.8-.78.8-2.07 0-2.86zM5.41 20L4 18.59l7.72-7.72 1.47 1.35L5.41 20z\"/>\n",
              "  </svg>\n",
              "      </button>\n",
              "      \n",
              "  <style>\n",
              "    .colab-df-container {\n",
              "      display:flex;\n",
              "      flex-wrap:wrap;\n",
              "      gap: 12px;\n",
              "    }\n",
              "\n",
              "    .colab-df-convert {\n",
              "      background-color: #E8F0FE;\n",
              "      border: none;\n",
              "      border-radius: 50%;\n",
              "      cursor: pointer;\n",
              "      display: none;\n",
              "      fill: #1967D2;\n",
              "      height: 32px;\n",
              "      padding: 0 0 0 0;\n",
              "      width: 32px;\n",
              "    }\n",
              "\n",
              "    .colab-df-convert:hover {\n",
              "      background-color: #E2EBFA;\n",
              "      box-shadow: 0px 1px 2px rgba(60, 64, 67, 0.3), 0px 1px 3px 1px rgba(60, 64, 67, 0.15);\n",
              "      fill: #174EA6;\n",
              "    }\n",
              "\n",
              "    [theme=dark] .colab-df-convert {\n",
              "      background-color: #3B4455;\n",
              "      fill: #D2E3FC;\n",
              "    }\n",
              "\n",
              "    [theme=dark] .colab-df-convert:hover {\n",
              "      background-color: #434B5C;\n",
              "      box-shadow: 0px 1px 3px 1px rgba(0, 0, 0, 0.15);\n",
              "      filter: drop-shadow(0px 1px 2px rgba(0, 0, 0, 0.3));\n",
              "      fill: #FFFFFF;\n",
              "    }\n",
              "  </style>\n",
              "\n",
              "      <script>\n",
              "        const buttonEl =\n",
              "          document.querySelector('#df-db4b2dd1-3ae6-429d-89d0-7673e6566a30 button.colab-df-convert');\n",
              "        buttonEl.style.display =\n",
              "          google.colab.kernel.accessAllowed ? 'block' : 'none';\n",
              "\n",
              "        async function convertToInteractive(key) {\n",
              "          const element = document.querySelector('#df-db4b2dd1-3ae6-429d-89d0-7673e6566a30');\n",
              "          const dataTable =\n",
              "            await google.colab.kernel.invokeFunction('convertToInteractive',\n",
              "                                                     [key], {});\n",
              "          if (!dataTable) return;\n",
              "\n",
              "          const docLinkHtml = 'Like what you see? Visit the ' +\n",
              "            '<a target=\"_blank\" href=https://colab.research.google.com/notebooks/data_table.ipynb>data table notebook</a>'\n",
              "            + ' to learn more about interactive tables.';\n",
              "          element.innerHTML = '';\n",
              "          dataTable['output_type'] = 'display_data';\n",
              "          await google.colab.output.renderOutput(dataTable, element);\n",
              "          const docLink = document.createElement('div');\n",
              "          docLink.innerHTML = docLinkHtml;\n",
              "          element.appendChild(docLink);\n",
              "        }\n",
              "      </script>\n",
              "    </div>\n",
              "  </div>\n",
              "  "
            ]
          },
          "metadata": {},
          "execution_count": 5
        }
      ],
      "source": [
        "df.head()"
      ]
    },
    {
      "cell_type": "code",
      "source": [
        "len(df.columns)"
      ],
      "metadata": {
        "colab": {
          "base_uri": "https://localhost:8080/"
        },
        "id": "ZpZH7qa6MbEm",
        "outputId": "5f696e37-f1e9-4e80-9af2-15a9246dec26"
      },
      "execution_count": 6,
      "outputs": [
        {
          "output_type": "execute_result",
          "data": {
            "text/plain": [
              "16"
            ]
          },
          "metadata": {},
          "execution_count": 6
        }
      ]
    },
    {
      "cell_type": "code",
      "source": [
        "df.columns"
      ],
      "metadata": {
        "colab": {
          "base_uri": "https://localhost:8080/"
        },
        "id": "EdFtW1k7gKzg",
        "outputId": "8897a6d4-d6f2-403e-a17b-bccfa03fd96b"
      },
      "execution_count": 7,
      "outputs": [
        {
          "output_type": "execute_result",
          "data": {
            "text/plain": [
              "Index(['Make', 'Model', 'Year', 'Engine Fuel Type', 'Engine HP',\n",
              "       'Engine Cylinders', 'Transmission Type', 'Driven_Wheels',\n",
              "       'Number of Doors', 'Market Category', 'Vehicle Size', 'Vehicle Style',\n",
              "       'highway MPG', 'city mpg', 'Popularity', 'MSRP'],\n",
              "      dtype='object')"
            ]
          },
          "metadata": {},
          "execution_count": 7
        }
      ]
    },
    {
      "cell_type": "markdown",
      "source": [
        "As we see, this dataset contains multiple columns:\n",
        "\n",
        "`make`: make of a car (BMW, Toyota, and so on)\n",
        "\n",
        "`model`: model of a car\n",
        "\n",
        "`year`: year when the car was manufactured\n",
        "\n",
        "`engine_fuel_type`: type of fuel the engine needs (diesel, electric, and so on)\n",
        "\n",
        "`engine_hp`: horsepower of the engine\n",
        "\n",
        "`engine_cylinders`: number of cylinders in the engine\n",
        "\n",
        "`transmission_type`: type of transmission (automatic or manual)\n",
        "\n",
        "`driven_wheels`: front, rear, all\n",
        "\n",
        "`number_of_doors`: number of doors a car has\n",
        "\n",
        "`market_category`: luxury, crossover, and so on\n",
        "\n",
        "`vehicle_size`: compact, midsize, or large\n",
        "\n",
        "`vehicle_style`: sedan or convertible\n",
        "\n",
        "`highway_mpg`: miles per gallon (mpg) on the highway\n",
        "\n",
        "`city_mpg`: miles per gallon in the city\n",
        "\n",
        "`popularity`: number of times the car was mentioned in a Twitter stream\n",
        "\n",
        "`msrp`: manufacturer’s suggested retail price"
      ],
      "metadata": {
        "id": "d4XnaP7GMv56"
      }
    },
    {
      "cell_type": "code",
      "source": [
        "df.info()"
      ],
      "metadata": {
        "colab": {
          "base_uri": "https://localhost:8080/"
        },
        "id": "WgHVXQ3tgcw2",
        "outputId": "d55867f7-6d1c-49a3-c0b5-3017b9d2da4b"
      },
      "execution_count": 8,
      "outputs": [
        {
          "output_type": "stream",
          "name": "stdout",
          "text": [
            "<class 'pandas.core.frame.DataFrame'>\n",
            "RangeIndex: 11914 entries, 0 to 11913\n",
            "Data columns (total 16 columns):\n",
            " #   Column             Non-Null Count  Dtype  \n",
            "---  ------             --------------  -----  \n",
            " 0   Make               11914 non-null  object \n",
            " 1   Model              11914 non-null  object \n",
            " 2   Year               11914 non-null  int64  \n",
            " 3   Engine Fuel Type   11911 non-null  object \n",
            " 4   Engine HP          11845 non-null  float64\n",
            " 5   Engine Cylinders   11884 non-null  float64\n",
            " 6   Transmission Type  11914 non-null  object \n",
            " 7   Driven_Wheels      11914 non-null  object \n",
            " 8   Number of Doors    11908 non-null  float64\n",
            " 9   Market Category    8172 non-null   object \n",
            " 10  Vehicle Size       11914 non-null  object \n",
            " 11  Vehicle Style      11914 non-null  object \n",
            " 12  highway MPG        11914 non-null  int64  \n",
            " 13  city mpg           11914 non-null  int64  \n",
            " 14  Popularity         11914 non-null  int64  \n",
            " 15  MSRP               11914 non-null  int64  \n",
            "dtypes: float64(3), int64(5), object(8)\n",
            "memory usage: 1.5+ MB\n"
          ]
        }
      ]
    },
    {
      "cell_type": "code",
      "source": [
        "for col in df.columns:\n",
        "    print( col,':', df[col].nunique() )\n",
        "    print(df[col].value_counts().nlargest(5))\n",
        "    print('\\n' + '*' * 20 + '\\n')"
      ],
      "metadata": {
        "colab": {
          "base_uri": "https://localhost:8080/"
        },
        "id": "652-J-tOJCVI",
        "outputId": "21020ea9-f094-48fd-a837-6598721632eb"
      },
      "execution_count": 9,
      "outputs": [
        {
          "output_type": "stream",
          "name": "stdout",
          "text": [
            "Make : 48\n",
            "Chevrolet     1123\n",
            "Ford           881\n",
            "Volkswagen     809\n",
            "Toyota         746\n",
            "Dodge          626\n",
            "Name: Make, dtype: int64\n",
            "\n",
            "********************\n",
            "\n",
            "Model : 915\n",
            "Silverado 1500        156\n",
            "Tundra                140\n",
            "F-150                 126\n",
            "Sierra 1500            90\n",
            "Beetle Convertible     89\n",
            "Name: Model, dtype: int64\n",
            "\n",
            "********************\n",
            "\n",
            "Year : 28\n",
            "2015    2170\n",
            "2016    2157\n",
            "2017    1668\n",
            "2014     589\n",
            "2012     387\n",
            "Name: Year, dtype: int64\n",
            "\n",
            "********************\n",
            "\n",
            "Engine Fuel Type : 10\n",
            "regular unleaded                  7172\n",
            "premium unleaded (required)       2009\n",
            "premium unleaded (recommended)    1523\n",
            "flex-fuel (unleaded/E85)           899\n",
            "diesel                             154\n",
            "Name: Engine Fuel Type, dtype: int64\n",
            "\n",
            "********************\n",
            "\n",
            "Engine HP : 356\n",
            "200.0    456\n",
            "170.0    351\n",
            "210.0    320\n",
            "240.0    268\n",
            "285.0    246\n",
            "Name: Engine HP, dtype: int64\n",
            "\n",
            "********************\n",
            "\n",
            "Engine Cylinders : 9\n",
            "4.0     4752\n",
            "6.0     4489\n",
            "8.0     2031\n",
            "12.0     230\n",
            "5.0      225\n",
            "Name: Engine Cylinders, dtype: int64\n",
            "\n",
            "********************\n",
            "\n",
            "Transmission Type : 5\n",
            "AUTOMATIC           8266\n",
            "MANUAL              2935\n",
            "AUTOMATED_MANUAL     626\n",
            "DIRECT_DRIVE          68\n",
            "UNKNOWN               19\n",
            "Name: Transmission Type, dtype: int64\n",
            "\n",
            "********************\n",
            "\n",
            "Driven_Wheels : 4\n",
            "front wheel drive    4787\n",
            "rear wheel drive     3371\n",
            "all wheel drive      2353\n",
            "four wheel drive     1403\n",
            "Name: Driven_Wheels, dtype: int64\n",
            "\n",
            "********************\n",
            "\n",
            "Number of Doors : 3\n",
            "4.0    8353\n",
            "2.0    3160\n",
            "3.0     395\n",
            "Name: Number of Doors, dtype: int64\n",
            "\n",
            "********************\n",
            "\n",
            "Market Category : 71\n",
            "Crossover             1110\n",
            "Flex Fuel              872\n",
            "Luxury                 855\n",
            "Luxury,Performance     673\n",
            "Hatchback              641\n",
            "Name: Market Category, dtype: int64\n",
            "\n",
            "********************\n",
            "\n",
            "Vehicle Size : 3\n",
            "Compact    4764\n",
            "Midsize    4373\n",
            "Large      2777\n",
            "Name: Vehicle Size, dtype: int64\n",
            "\n",
            "********************\n",
            "\n",
            "Vehicle Style : 16\n",
            "Sedan            3048\n",
            "4dr SUV          2488\n",
            "Coupe            1211\n",
            "Convertible       793\n",
            "4dr Hatchback     702\n",
            "Name: Vehicle Style, dtype: int64\n",
            "\n",
            "********************\n",
            "\n",
            "highway MPG : 59\n",
            "24    876\n",
            "23    801\n",
            "26    778\n",
            "22    753\n",
            "25    731\n",
            "Name: highway MPG, dtype: int64\n",
            "\n",
            "********************\n",
            "\n",
            "city mpg : 69\n",
            "17    1230\n",
            "16    1106\n",
            "15    1038\n",
            "18     997\n",
            "19     841\n",
            "Name: city mpg, dtype: int64\n",
            "\n",
            "********************\n",
            "\n",
            "Popularity : 48\n",
            "1385    1123\n",
            "5657     881\n",
            "873      809\n",
            "2031     746\n",
            "1851     626\n",
            "Name: Popularity, dtype: int64\n",
            "\n",
            "********************\n",
            "\n",
            "MSRP : 6049\n",
            "2000     1036\n",
            "29995      19\n",
            "25995      19\n",
            "20995      16\n",
            "27995      16\n",
            "Name: MSRP, dtype: int64\n",
            "\n",
            "********************\n",
            "\n"
          ]
        }
      ]
    },
    {
      "cell_type": "markdown",
      "source": [
        "# Some Cleaning"
      ],
      "metadata": {
        "id": "tzEhgPoeKxx4"
      }
    },
    {
      "cell_type": "code",
      "source": [
        "df.info()"
      ],
      "metadata": {
        "colab": {
          "base_uri": "https://localhost:8080/"
        },
        "id": "YhER_lBnLHSh",
        "outputId": "2afd7354-46d0-4923-a6db-6de0f4db4d0d"
      },
      "execution_count": 11,
      "outputs": [
        {
          "output_type": "stream",
          "name": "stdout",
          "text": [
            "<class 'pandas.core.frame.DataFrame'>\n",
            "RangeIndex: 11914 entries, 0 to 11913\n",
            "Data columns (total 16 columns):\n",
            " #   Column             Non-Null Count  Dtype  \n",
            "---  ------             --------------  -----  \n",
            " 0   Make               11914 non-null  object \n",
            " 1   Model              11914 non-null  object \n",
            " 2   Year               11914 non-null  int64  \n",
            " 3   Engine Fuel Type   11911 non-null  object \n",
            " 4   Engine HP          11845 non-null  float64\n",
            " 5   Engine Cylinders   11884 non-null  float64\n",
            " 6   Transmission Type  11914 non-null  object \n",
            " 7   Driven_Wheels      11914 non-null  object \n",
            " 8   Number of Doors    11908 non-null  float64\n",
            " 9   Market Category    8172 non-null   object \n",
            " 10  Vehicle Size       11914 non-null  object \n",
            " 11  Vehicle Style      11914 non-null  object \n",
            " 12  highway MPG        11914 non-null  int64  \n",
            " 13  city mpg           11914 non-null  int64  \n",
            " 14  Popularity         11914 non-null  int64  \n",
            " 15  MSRP               11914 non-null  int64  \n",
            "dtypes: float64(3), int64(5), object(8)\n",
            "memory usage: 1.5+ MB\n"
          ]
        }
      ]
    },
    {
      "cell_type": "code",
      "execution_count": 12,
      "metadata": {
        "id": "m5uhMUO1Er21",
        "colab": {
          "base_uri": "https://localhost:8080/"
        },
        "outputId": "c3f4395b-1bb7-4714-8e11-de40c2a0b056"
      },
      "outputs": [
        {
          "output_type": "stream",
          "name": "stdout",
          "text": [
            "['make', 'model', 'engine_fuel_type', 'transmission_type', 'driven_wheels', 'market_category', 'vehicle_size', 'vehicle_style']\n"
          ]
        }
      ],
      "source": [
        "df.columns = df.columns.str.lower().str.replace(' ', '_')\n",
        "\n",
        "string_columns = list(df.dtypes[df.dtypes == 'object'].index)\n",
        "print(string_columns)\n",
        "for col in string_columns:\n",
        "    df[col] = df[col].str.lower().str.replace(' ', '_')"
      ]
    },
    {
      "cell_type": "code",
      "source": [
        "df.columns"
      ],
      "metadata": {
        "colab": {
          "base_uri": "https://localhost:8080/"
        },
        "id": "Hy664xHpmXlU",
        "outputId": "e29ae34a-64df-4393-bd4a-5551ec357d13"
      },
      "execution_count": 13,
      "outputs": [
        {
          "output_type": "execute_result",
          "data": {
            "text/plain": [
              "Index(['make', 'model', 'year', 'engine_fuel_type', 'engine_hp',\n",
              "       'engine_cylinders', 'transmission_type', 'driven_wheels',\n",
              "       'number_of_doors', 'market_category', 'vehicle_size', 'vehicle_style',\n",
              "       'highway_mpg', 'city_mpg', 'popularity', 'msrp'],\n",
              "      dtype='object')"
            ]
          },
          "metadata": {},
          "execution_count": 13
        }
      ]
    },
    {
      "cell_type": "code",
      "source": [
        "df.rename(columns = {'msrp': 'price'}, inplace = True)"
      ],
      "metadata": {
        "id": "NMhkKbfIPiBg"
      },
      "execution_count": 14,
      "outputs": []
    },
    {
      "cell_type": "code",
      "execution_count": 15,
      "metadata": {
        "id": "_CKJ2tnkEr21",
        "colab": {
          "base_uri": "https://localhost:8080/",
          "height": 287
        },
        "outputId": "d4e3d049-7f0c-4dca-dcf7-3316b1fb3e86"
      },
      "outputs": [
        {
          "output_type": "execute_result",
          "data": {
            "text/plain": [
              "  make       model  year             engine_fuel_type  engine_hp  \\\n",
              "0  bmw  1_series_m  2011  premium_unleaded_(required)      335.0   \n",
              "1  bmw    1_series  2011  premium_unleaded_(required)      300.0   \n",
              "2  bmw    1_series  2011  premium_unleaded_(required)      300.0   \n",
              "3  bmw    1_series  2011  premium_unleaded_(required)      230.0   \n",
              "4  bmw    1_series  2011  premium_unleaded_(required)      230.0   \n",
              "\n",
              "   engine_cylinders transmission_type     driven_wheels  number_of_doors  \\\n",
              "0               6.0            manual  rear_wheel_drive              2.0   \n",
              "1               6.0            manual  rear_wheel_drive              2.0   \n",
              "2               6.0            manual  rear_wheel_drive              2.0   \n",
              "3               6.0            manual  rear_wheel_drive              2.0   \n",
              "4               6.0            manual  rear_wheel_drive              2.0   \n",
              "\n",
              "                         market_category vehicle_size vehicle_style  \\\n",
              "0  factory_tuner,luxury,high-performance      compact         coupe   \n",
              "1                     luxury,performance      compact   convertible   \n",
              "2                luxury,high-performance      compact         coupe   \n",
              "3                     luxury,performance      compact         coupe   \n",
              "4                                 luxury      compact   convertible   \n",
              "\n",
              "   highway_mpg  city_mpg  popularity  price  \n",
              "0           26        19        3916  46135  \n",
              "1           28        19        3916  40650  \n",
              "2           28        20        3916  36350  \n",
              "3           28        18        3916  29450  \n",
              "4           28        18        3916  34500  "
            ],
            "text/html": [
              "\n",
              "  <div id=\"df-fd69d3d2-cb89-44cd-a4bf-1d9986ad6d96\">\n",
              "    <div class=\"colab-df-container\">\n",
              "      <div>\n",
              "<style scoped>\n",
              "    .dataframe tbody tr th:only-of-type {\n",
              "        vertical-align: middle;\n",
              "    }\n",
              "\n",
              "    .dataframe tbody tr th {\n",
              "        vertical-align: top;\n",
              "    }\n",
              "\n",
              "    .dataframe thead th {\n",
              "        text-align: right;\n",
              "    }\n",
              "</style>\n",
              "<table border=\"1\" class=\"dataframe\">\n",
              "  <thead>\n",
              "    <tr style=\"text-align: right;\">\n",
              "      <th></th>\n",
              "      <th>make</th>\n",
              "      <th>model</th>\n",
              "      <th>year</th>\n",
              "      <th>engine_fuel_type</th>\n",
              "      <th>engine_hp</th>\n",
              "      <th>engine_cylinders</th>\n",
              "      <th>transmission_type</th>\n",
              "      <th>driven_wheels</th>\n",
              "      <th>number_of_doors</th>\n",
              "      <th>market_category</th>\n",
              "      <th>vehicle_size</th>\n",
              "      <th>vehicle_style</th>\n",
              "      <th>highway_mpg</th>\n",
              "      <th>city_mpg</th>\n",
              "      <th>popularity</th>\n",
              "      <th>price</th>\n",
              "    </tr>\n",
              "  </thead>\n",
              "  <tbody>\n",
              "    <tr>\n",
              "      <th>0</th>\n",
              "      <td>bmw</td>\n",
              "      <td>1_series_m</td>\n",
              "      <td>2011</td>\n",
              "      <td>premium_unleaded_(required)</td>\n",
              "      <td>335.0</td>\n",
              "      <td>6.0</td>\n",
              "      <td>manual</td>\n",
              "      <td>rear_wheel_drive</td>\n",
              "      <td>2.0</td>\n",
              "      <td>factory_tuner,luxury,high-performance</td>\n",
              "      <td>compact</td>\n",
              "      <td>coupe</td>\n",
              "      <td>26</td>\n",
              "      <td>19</td>\n",
              "      <td>3916</td>\n",
              "      <td>46135</td>\n",
              "    </tr>\n",
              "    <tr>\n",
              "      <th>1</th>\n",
              "      <td>bmw</td>\n",
              "      <td>1_series</td>\n",
              "      <td>2011</td>\n",
              "      <td>premium_unleaded_(required)</td>\n",
              "      <td>300.0</td>\n",
              "      <td>6.0</td>\n",
              "      <td>manual</td>\n",
              "      <td>rear_wheel_drive</td>\n",
              "      <td>2.0</td>\n",
              "      <td>luxury,performance</td>\n",
              "      <td>compact</td>\n",
              "      <td>convertible</td>\n",
              "      <td>28</td>\n",
              "      <td>19</td>\n",
              "      <td>3916</td>\n",
              "      <td>40650</td>\n",
              "    </tr>\n",
              "    <tr>\n",
              "      <th>2</th>\n",
              "      <td>bmw</td>\n",
              "      <td>1_series</td>\n",
              "      <td>2011</td>\n",
              "      <td>premium_unleaded_(required)</td>\n",
              "      <td>300.0</td>\n",
              "      <td>6.0</td>\n",
              "      <td>manual</td>\n",
              "      <td>rear_wheel_drive</td>\n",
              "      <td>2.0</td>\n",
              "      <td>luxury,high-performance</td>\n",
              "      <td>compact</td>\n",
              "      <td>coupe</td>\n",
              "      <td>28</td>\n",
              "      <td>20</td>\n",
              "      <td>3916</td>\n",
              "      <td>36350</td>\n",
              "    </tr>\n",
              "    <tr>\n",
              "      <th>3</th>\n",
              "      <td>bmw</td>\n",
              "      <td>1_series</td>\n",
              "      <td>2011</td>\n",
              "      <td>premium_unleaded_(required)</td>\n",
              "      <td>230.0</td>\n",
              "      <td>6.0</td>\n",
              "      <td>manual</td>\n",
              "      <td>rear_wheel_drive</td>\n",
              "      <td>2.0</td>\n",
              "      <td>luxury,performance</td>\n",
              "      <td>compact</td>\n",
              "      <td>coupe</td>\n",
              "      <td>28</td>\n",
              "      <td>18</td>\n",
              "      <td>3916</td>\n",
              "      <td>29450</td>\n",
              "    </tr>\n",
              "    <tr>\n",
              "      <th>4</th>\n",
              "      <td>bmw</td>\n",
              "      <td>1_series</td>\n",
              "      <td>2011</td>\n",
              "      <td>premium_unleaded_(required)</td>\n",
              "      <td>230.0</td>\n",
              "      <td>6.0</td>\n",
              "      <td>manual</td>\n",
              "      <td>rear_wheel_drive</td>\n",
              "      <td>2.0</td>\n",
              "      <td>luxury</td>\n",
              "      <td>compact</td>\n",
              "      <td>convertible</td>\n",
              "      <td>28</td>\n",
              "      <td>18</td>\n",
              "      <td>3916</td>\n",
              "      <td>34500</td>\n",
              "    </tr>\n",
              "  </tbody>\n",
              "</table>\n",
              "</div>\n",
              "      <button class=\"colab-df-convert\" onclick=\"convertToInteractive('df-fd69d3d2-cb89-44cd-a4bf-1d9986ad6d96')\"\n",
              "              title=\"Convert this dataframe to an interactive table.\"\n",
              "              style=\"display:none;\">\n",
              "        \n",
              "  <svg xmlns=\"http://www.w3.org/2000/svg\" height=\"24px\"viewBox=\"0 0 24 24\"\n",
              "       width=\"24px\">\n",
              "    <path d=\"M0 0h24v24H0V0z\" fill=\"none\"/>\n",
              "    <path d=\"M18.56 5.44l.94 2.06.94-2.06 2.06-.94-2.06-.94-.94-2.06-.94 2.06-2.06.94zm-11 1L8.5 8.5l.94-2.06 2.06-.94-2.06-.94L8.5 2.5l-.94 2.06-2.06.94zm10 10l.94 2.06.94-2.06 2.06-.94-2.06-.94-.94-2.06-.94 2.06-2.06.94z\"/><path d=\"M17.41 7.96l-1.37-1.37c-.4-.4-.92-.59-1.43-.59-.52 0-1.04.2-1.43.59L10.3 9.45l-7.72 7.72c-.78.78-.78 2.05 0 2.83L4 21.41c.39.39.9.59 1.41.59.51 0 1.02-.2 1.41-.59l7.78-7.78 2.81-2.81c.8-.78.8-2.07 0-2.86zM5.41 20L4 18.59l7.72-7.72 1.47 1.35L5.41 20z\"/>\n",
              "  </svg>\n",
              "      </button>\n",
              "      \n",
              "  <style>\n",
              "    .colab-df-container {\n",
              "      display:flex;\n",
              "      flex-wrap:wrap;\n",
              "      gap: 12px;\n",
              "    }\n",
              "\n",
              "    .colab-df-convert {\n",
              "      background-color: #E8F0FE;\n",
              "      border: none;\n",
              "      border-radius: 50%;\n",
              "      cursor: pointer;\n",
              "      display: none;\n",
              "      fill: #1967D2;\n",
              "      height: 32px;\n",
              "      padding: 0 0 0 0;\n",
              "      width: 32px;\n",
              "    }\n",
              "\n",
              "    .colab-df-convert:hover {\n",
              "      background-color: #E2EBFA;\n",
              "      box-shadow: 0px 1px 2px rgba(60, 64, 67, 0.3), 0px 1px 3px 1px rgba(60, 64, 67, 0.15);\n",
              "      fill: #174EA6;\n",
              "    }\n",
              "\n",
              "    [theme=dark] .colab-df-convert {\n",
              "      background-color: #3B4455;\n",
              "      fill: #D2E3FC;\n",
              "    }\n",
              "\n",
              "    [theme=dark] .colab-df-convert:hover {\n",
              "      background-color: #434B5C;\n",
              "      box-shadow: 0px 1px 3px 1px rgba(0, 0, 0, 0.15);\n",
              "      filter: drop-shadow(0px 1px 2px rgba(0, 0, 0, 0.3));\n",
              "      fill: #FFFFFF;\n",
              "    }\n",
              "  </style>\n",
              "\n",
              "      <script>\n",
              "        const buttonEl =\n",
              "          document.querySelector('#df-fd69d3d2-cb89-44cd-a4bf-1d9986ad6d96 button.colab-df-convert');\n",
              "        buttonEl.style.display =\n",
              "          google.colab.kernel.accessAllowed ? 'block' : 'none';\n",
              "\n",
              "        async function convertToInteractive(key) {\n",
              "          const element = document.querySelector('#df-fd69d3d2-cb89-44cd-a4bf-1d9986ad6d96');\n",
              "          const dataTable =\n",
              "            await google.colab.kernel.invokeFunction('convertToInteractive',\n",
              "                                                     [key], {});\n",
              "          if (!dataTable) return;\n",
              "\n",
              "          const docLinkHtml = 'Like what you see? Visit the ' +\n",
              "            '<a target=\"_blank\" href=https://colab.research.google.com/notebooks/data_table.ipynb>data table notebook</a>'\n",
              "            + ' to learn more about interactive tables.';\n",
              "          element.innerHTML = '';\n",
              "          dataTable['output_type'] = 'display_data';\n",
              "          await google.colab.output.renderOutput(dataTable, element);\n",
              "          const docLink = document.createElement('div');\n",
              "          docLink.innerHTML = docLinkHtml;\n",
              "          element.appendChild(docLink);\n",
              "        }\n",
              "      </script>\n",
              "    </div>\n",
              "  </div>\n",
              "  "
            ]
          },
          "metadata": {},
          "execution_count": 15
        }
      ],
      "source": [
        "df.head()"
      ]
    },
    {
      "cell_type": "markdown",
      "metadata": {
        "id": "kWtF-4PhEr22"
      },
      "source": [
        "# Exploratory Data Analysis"
      ]
    },
    {
      "cell_type": "code",
      "source": [
        "pd.options.display.float_format = '{:,.2f}'.format\n",
        "df.describe()"
      ],
      "metadata": {
        "colab": {
          "base_uri": "https://localhost:8080/",
          "height": 344
        },
        "id": "g_z_bF5tQqcK",
        "outputId": "310c2002-e11b-40f7-dfc7-9adeca99715a"
      },
      "execution_count": 17,
      "outputs": [
        {
          "output_type": "execute_result",
          "data": {
            "text/plain": [
              "           year  engine_hp  engine_cylinders  number_of_doors  highway_mpg  \\\n",
              "count 11,914.00  11,845.00         11,884.00        11,908.00    11,914.00   \n",
              "mean   2,010.38     249.39              5.63             3.44        26.64   \n",
              "std        7.58     109.19              1.78             0.88         8.86   \n",
              "min    1,990.00      55.00              0.00             2.00        12.00   \n",
              "25%    2,007.00     170.00              4.00             2.00        22.00   \n",
              "50%    2,015.00     227.00              6.00             4.00        26.00   \n",
              "75%    2,016.00     300.00              6.00             4.00        30.00   \n",
              "max    2,017.00   1,001.00             16.00             4.00       354.00   \n",
              "\n",
              "       city_mpg  popularity        price  \n",
              "count 11,914.00   11,914.00    11,914.00  \n",
              "mean      19.73    1,554.91    40,594.74  \n",
              "std        8.99    1,441.86    60,109.10  \n",
              "min        7.00        2.00     2,000.00  \n",
              "25%       16.00      549.00    21,000.00  \n",
              "50%       18.00    1,385.00    29,995.00  \n",
              "75%       22.00    2,009.00    42,231.25  \n",
              "max      137.00    5,657.00 2,065,902.00  "
            ],
            "text/html": [
              "\n",
              "  <div id=\"df-7edc4ecb-66db-40b9-b832-29537b43bf90\">\n",
              "    <div class=\"colab-df-container\">\n",
              "      <div>\n",
              "<style scoped>\n",
              "    .dataframe tbody tr th:only-of-type {\n",
              "        vertical-align: middle;\n",
              "    }\n",
              "\n",
              "    .dataframe tbody tr th {\n",
              "        vertical-align: top;\n",
              "    }\n",
              "\n",
              "    .dataframe thead th {\n",
              "        text-align: right;\n",
              "    }\n",
              "</style>\n",
              "<table border=\"1\" class=\"dataframe\">\n",
              "  <thead>\n",
              "    <tr style=\"text-align: right;\">\n",
              "      <th></th>\n",
              "      <th>year</th>\n",
              "      <th>engine_hp</th>\n",
              "      <th>engine_cylinders</th>\n",
              "      <th>number_of_doors</th>\n",
              "      <th>highway_mpg</th>\n",
              "      <th>city_mpg</th>\n",
              "      <th>popularity</th>\n",
              "      <th>price</th>\n",
              "    </tr>\n",
              "  </thead>\n",
              "  <tbody>\n",
              "    <tr>\n",
              "      <th>count</th>\n",
              "      <td>11,914.00</td>\n",
              "      <td>11,845.00</td>\n",
              "      <td>11,884.00</td>\n",
              "      <td>11,908.00</td>\n",
              "      <td>11,914.00</td>\n",
              "      <td>11,914.00</td>\n",
              "      <td>11,914.00</td>\n",
              "      <td>11,914.00</td>\n",
              "    </tr>\n",
              "    <tr>\n",
              "      <th>mean</th>\n",
              "      <td>2,010.38</td>\n",
              "      <td>249.39</td>\n",
              "      <td>5.63</td>\n",
              "      <td>3.44</td>\n",
              "      <td>26.64</td>\n",
              "      <td>19.73</td>\n",
              "      <td>1,554.91</td>\n",
              "      <td>40,594.74</td>\n",
              "    </tr>\n",
              "    <tr>\n",
              "      <th>std</th>\n",
              "      <td>7.58</td>\n",
              "      <td>109.19</td>\n",
              "      <td>1.78</td>\n",
              "      <td>0.88</td>\n",
              "      <td>8.86</td>\n",
              "      <td>8.99</td>\n",
              "      <td>1,441.86</td>\n",
              "      <td>60,109.10</td>\n",
              "    </tr>\n",
              "    <tr>\n",
              "      <th>min</th>\n",
              "      <td>1,990.00</td>\n",
              "      <td>55.00</td>\n",
              "      <td>0.00</td>\n",
              "      <td>2.00</td>\n",
              "      <td>12.00</td>\n",
              "      <td>7.00</td>\n",
              "      <td>2.00</td>\n",
              "      <td>2,000.00</td>\n",
              "    </tr>\n",
              "    <tr>\n",
              "      <th>25%</th>\n",
              "      <td>2,007.00</td>\n",
              "      <td>170.00</td>\n",
              "      <td>4.00</td>\n",
              "      <td>2.00</td>\n",
              "      <td>22.00</td>\n",
              "      <td>16.00</td>\n",
              "      <td>549.00</td>\n",
              "      <td>21,000.00</td>\n",
              "    </tr>\n",
              "    <tr>\n",
              "      <th>50%</th>\n",
              "      <td>2,015.00</td>\n",
              "      <td>227.00</td>\n",
              "      <td>6.00</td>\n",
              "      <td>4.00</td>\n",
              "      <td>26.00</td>\n",
              "      <td>18.00</td>\n",
              "      <td>1,385.00</td>\n",
              "      <td>29,995.00</td>\n",
              "    </tr>\n",
              "    <tr>\n",
              "      <th>75%</th>\n",
              "      <td>2,016.00</td>\n",
              "      <td>300.00</td>\n",
              "      <td>6.00</td>\n",
              "      <td>4.00</td>\n",
              "      <td>30.00</td>\n",
              "      <td>22.00</td>\n",
              "      <td>2,009.00</td>\n",
              "      <td>42,231.25</td>\n",
              "    </tr>\n",
              "    <tr>\n",
              "      <th>max</th>\n",
              "      <td>2,017.00</td>\n",
              "      <td>1,001.00</td>\n",
              "      <td>16.00</td>\n",
              "      <td>4.00</td>\n",
              "      <td>354.00</td>\n",
              "      <td>137.00</td>\n",
              "      <td>5,657.00</td>\n",
              "      <td>2,065,902.00</td>\n",
              "    </tr>\n",
              "  </tbody>\n",
              "</table>\n",
              "</div>\n",
              "      <button class=\"colab-df-convert\" onclick=\"convertToInteractive('df-7edc4ecb-66db-40b9-b832-29537b43bf90')\"\n",
              "              title=\"Convert this dataframe to an interactive table.\"\n",
              "              style=\"display:none;\">\n",
              "        \n",
              "  <svg xmlns=\"http://www.w3.org/2000/svg\" height=\"24px\"viewBox=\"0 0 24 24\"\n",
              "       width=\"24px\">\n",
              "    <path d=\"M0 0h24v24H0V0z\" fill=\"none\"/>\n",
              "    <path d=\"M18.56 5.44l.94 2.06.94-2.06 2.06-.94-2.06-.94-.94-2.06-.94 2.06-2.06.94zm-11 1L8.5 8.5l.94-2.06 2.06-.94-2.06-.94L8.5 2.5l-.94 2.06-2.06.94zm10 10l.94 2.06.94-2.06 2.06-.94-2.06-.94-.94-2.06-.94 2.06-2.06.94z\"/><path d=\"M17.41 7.96l-1.37-1.37c-.4-.4-.92-.59-1.43-.59-.52 0-1.04.2-1.43.59L10.3 9.45l-7.72 7.72c-.78.78-.78 2.05 0 2.83L4 21.41c.39.39.9.59 1.41.59.51 0 1.02-.2 1.41-.59l7.78-7.78 2.81-2.81c.8-.78.8-2.07 0-2.86zM5.41 20L4 18.59l7.72-7.72 1.47 1.35L5.41 20z\"/>\n",
              "  </svg>\n",
              "      </button>\n",
              "      \n",
              "  <style>\n",
              "    .colab-df-container {\n",
              "      display:flex;\n",
              "      flex-wrap:wrap;\n",
              "      gap: 12px;\n",
              "    }\n",
              "\n",
              "    .colab-df-convert {\n",
              "      background-color: #E8F0FE;\n",
              "      border: none;\n",
              "      border-radius: 50%;\n",
              "      cursor: pointer;\n",
              "      display: none;\n",
              "      fill: #1967D2;\n",
              "      height: 32px;\n",
              "      padding: 0 0 0 0;\n",
              "      width: 32px;\n",
              "    }\n",
              "\n",
              "    .colab-df-convert:hover {\n",
              "      background-color: #E2EBFA;\n",
              "      box-shadow: 0px 1px 2px rgba(60, 64, 67, 0.3), 0px 1px 3px 1px rgba(60, 64, 67, 0.15);\n",
              "      fill: #174EA6;\n",
              "    }\n",
              "\n",
              "    [theme=dark] .colab-df-convert {\n",
              "      background-color: #3B4455;\n",
              "      fill: #D2E3FC;\n",
              "    }\n",
              "\n",
              "    [theme=dark] .colab-df-convert:hover {\n",
              "      background-color: #434B5C;\n",
              "      box-shadow: 0px 1px 3px 1px rgba(0, 0, 0, 0.15);\n",
              "      filter: drop-shadow(0px 1px 2px rgba(0, 0, 0, 0.3));\n",
              "      fill: #FFFFFF;\n",
              "    }\n",
              "  </style>\n",
              "\n",
              "      <script>\n",
              "        const buttonEl =\n",
              "          document.querySelector('#df-7edc4ecb-66db-40b9-b832-29537b43bf90 button.colab-df-convert');\n",
              "        buttonEl.style.display =\n",
              "          google.colab.kernel.accessAllowed ? 'block' : 'none';\n",
              "\n",
              "        async function convertToInteractive(key) {\n",
              "          const element = document.querySelector('#df-7edc4ecb-66db-40b9-b832-29537b43bf90');\n",
              "          const dataTable =\n",
              "            await google.colab.kernel.invokeFunction('convertToInteractive',\n",
              "                                                     [key], {});\n",
              "          if (!dataTable) return;\n",
              "\n",
              "          const docLinkHtml = 'Like what you see? Visit the ' +\n",
              "            '<a target=\"_blank\" href=https://colab.research.google.com/notebooks/data_table.ipynb>data table notebook</a>'\n",
              "            + ' to learn more about interactive tables.';\n",
              "          element.innerHTML = '';\n",
              "          dataTable['output_type'] = 'display_data';\n",
              "          await google.colab.output.renderOutput(dataTable, element);\n",
              "          const docLink = document.createElement('div');\n",
              "          docLink.innerHTML = docLinkHtml;\n",
              "          element.appendChild(docLink);\n",
              "        }\n",
              "      </script>\n",
              "    </div>\n",
              "  </div>\n",
              "  "
            ]
          },
          "metadata": {},
          "execution_count": 17
        }
      ]
    },
    {
      "cell_type": "markdown",
      "source": [
        "> You can observe the scale, expected distribution, abnormal values and ... etc"
      ],
      "metadata": {
        "id": "DWdEypqtLoC5"
      }
    },
    {
      "cell_type": "code",
      "source": [
        "df.describe(include=['O'])"
      ],
      "metadata": {
        "colab": {
          "base_uri": "https://localhost:8080/",
          "height": 239
        },
        "id": "ozcBFV-s1Xiv",
        "outputId": "be9b48f8-969c-4544-eee9-c2d0d0881dc8"
      },
      "execution_count": 53,
      "outputs": [
        {
          "output_type": "execute_result",
          "data": {
            "text/plain": [
              "             make           model  engine_fuel_type transmission_type  \\\n",
              "count       11914           11914             11911             11914   \n",
              "unique         48             914                10                 5   \n",
              "top     chevrolet  silverado_1500  regular_unleaded         automatic   \n",
              "freq         1123             156              7172              8266   \n",
              "\n",
              "            driven_wheels market_category vehicle_size vehicle_style  \n",
              "count               11914            8172        11914         11914  \n",
              "unique                  4              71            3            16  \n",
              "top     front_wheel_drive       crossover      compact         sedan  \n",
              "freq                 4787            1110         4764          3048  "
            ],
            "text/html": [
              "\n",
              "  <div id=\"df-0761940a-b929-40a9-8cb2-8f70be54b424\">\n",
              "    <div class=\"colab-df-container\">\n",
              "      <div>\n",
              "<style scoped>\n",
              "    .dataframe tbody tr th:only-of-type {\n",
              "        vertical-align: middle;\n",
              "    }\n",
              "\n",
              "    .dataframe tbody tr th {\n",
              "        vertical-align: top;\n",
              "    }\n",
              "\n",
              "    .dataframe thead th {\n",
              "        text-align: right;\n",
              "    }\n",
              "</style>\n",
              "<table border=\"1\" class=\"dataframe\">\n",
              "  <thead>\n",
              "    <tr style=\"text-align: right;\">\n",
              "      <th></th>\n",
              "      <th>make</th>\n",
              "      <th>model</th>\n",
              "      <th>engine_fuel_type</th>\n",
              "      <th>transmission_type</th>\n",
              "      <th>driven_wheels</th>\n",
              "      <th>market_category</th>\n",
              "      <th>vehicle_size</th>\n",
              "      <th>vehicle_style</th>\n",
              "    </tr>\n",
              "  </thead>\n",
              "  <tbody>\n",
              "    <tr>\n",
              "      <th>count</th>\n",
              "      <td>11914</td>\n",
              "      <td>11914</td>\n",
              "      <td>11911</td>\n",
              "      <td>11914</td>\n",
              "      <td>11914</td>\n",
              "      <td>8172</td>\n",
              "      <td>11914</td>\n",
              "      <td>11914</td>\n",
              "    </tr>\n",
              "    <tr>\n",
              "      <th>unique</th>\n",
              "      <td>48</td>\n",
              "      <td>914</td>\n",
              "      <td>10</td>\n",
              "      <td>5</td>\n",
              "      <td>4</td>\n",
              "      <td>71</td>\n",
              "      <td>3</td>\n",
              "      <td>16</td>\n",
              "    </tr>\n",
              "    <tr>\n",
              "      <th>top</th>\n",
              "      <td>chevrolet</td>\n",
              "      <td>silverado_1500</td>\n",
              "      <td>regular_unleaded</td>\n",
              "      <td>automatic</td>\n",
              "      <td>front_wheel_drive</td>\n",
              "      <td>crossover</td>\n",
              "      <td>compact</td>\n",
              "      <td>sedan</td>\n",
              "    </tr>\n",
              "    <tr>\n",
              "      <th>freq</th>\n",
              "      <td>1123</td>\n",
              "      <td>156</td>\n",
              "      <td>7172</td>\n",
              "      <td>8266</td>\n",
              "      <td>4787</td>\n",
              "      <td>1110</td>\n",
              "      <td>4764</td>\n",
              "      <td>3048</td>\n",
              "    </tr>\n",
              "  </tbody>\n",
              "</table>\n",
              "</div>\n",
              "      <button class=\"colab-df-convert\" onclick=\"convertToInteractive('df-0761940a-b929-40a9-8cb2-8f70be54b424')\"\n",
              "              title=\"Convert this dataframe to an interactive table.\"\n",
              "              style=\"display:none;\">\n",
              "        \n",
              "  <svg xmlns=\"http://www.w3.org/2000/svg\" height=\"24px\"viewBox=\"0 0 24 24\"\n",
              "       width=\"24px\">\n",
              "    <path d=\"M0 0h24v24H0V0z\" fill=\"none\"/>\n",
              "    <path d=\"M18.56 5.44l.94 2.06.94-2.06 2.06-.94-2.06-.94-.94-2.06-.94 2.06-2.06.94zm-11 1L8.5 8.5l.94-2.06 2.06-.94-2.06-.94L8.5 2.5l-.94 2.06-2.06.94zm10 10l.94 2.06.94-2.06 2.06-.94-2.06-.94-.94-2.06-.94 2.06-2.06.94z\"/><path d=\"M17.41 7.96l-1.37-1.37c-.4-.4-.92-.59-1.43-.59-.52 0-1.04.2-1.43.59L10.3 9.45l-7.72 7.72c-.78.78-.78 2.05 0 2.83L4 21.41c.39.39.9.59 1.41.59.51 0 1.02-.2 1.41-.59l7.78-7.78 2.81-2.81c.8-.78.8-2.07 0-2.86zM5.41 20L4 18.59l7.72-7.72 1.47 1.35L5.41 20z\"/>\n",
              "  </svg>\n",
              "      </button>\n",
              "      \n",
              "  <style>\n",
              "    .colab-df-container {\n",
              "      display:flex;\n",
              "      flex-wrap:wrap;\n",
              "      gap: 12px;\n",
              "    }\n",
              "\n",
              "    .colab-df-convert {\n",
              "      background-color: #E8F0FE;\n",
              "      border: none;\n",
              "      border-radius: 50%;\n",
              "      cursor: pointer;\n",
              "      display: none;\n",
              "      fill: #1967D2;\n",
              "      height: 32px;\n",
              "      padding: 0 0 0 0;\n",
              "      width: 32px;\n",
              "    }\n",
              "\n",
              "    .colab-df-convert:hover {\n",
              "      background-color: #E2EBFA;\n",
              "      box-shadow: 0px 1px 2px rgba(60, 64, 67, 0.3), 0px 1px 3px 1px rgba(60, 64, 67, 0.15);\n",
              "      fill: #174EA6;\n",
              "    }\n",
              "\n",
              "    [theme=dark] .colab-df-convert {\n",
              "      background-color: #3B4455;\n",
              "      fill: #D2E3FC;\n",
              "    }\n",
              "\n",
              "    [theme=dark] .colab-df-convert:hover {\n",
              "      background-color: #434B5C;\n",
              "      box-shadow: 0px 1px 3px 1px rgba(0, 0, 0, 0.15);\n",
              "      filter: drop-shadow(0px 1px 2px rgba(0, 0, 0, 0.3));\n",
              "      fill: #FFFFFF;\n",
              "    }\n",
              "  </style>\n",
              "\n",
              "      <script>\n",
              "        const buttonEl =\n",
              "          document.querySelector('#df-0761940a-b929-40a9-8cb2-8f70be54b424 button.colab-df-convert');\n",
              "        buttonEl.style.display =\n",
              "          google.colab.kernel.accessAllowed ? 'block' : 'none';\n",
              "\n",
              "        async function convertToInteractive(key) {\n",
              "          const element = document.querySelector('#df-0761940a-b929-40a9-8cb2-8f70be54b424');\n",
              "          const dataTable =\n",
              "            await google.colab.kernel.invokeFunction('convertToInteractive',\n",
              "                                                     [key], {});\n",
              "          if (!dataTable) return;\n",
              "\n",
              "          const docLinkHtml = 'Like what you see? Visit the ' +\n",
              "            '<a target=\"_blank\" href=https://colab.research.google.com/notebooks/data_table.ipynb>data table notebook</a>'\n",
              "            + ' to learn more about interactive tables.';\n",
              "          element.innerHTML = '';\n",
              "          dataTable['output_type'] = 'display_data';\n",
              "          await google.colab.output.renderOutput(dataTable, element);\n",
              "          const docLink = document.createElement('div');\n",
              "          docLink.innerHTML = docLinkHtml;\n",
              "          element.appendChild(docLink);\n",
              "        }\n",
              "      </script>\n",
              "    </div>\n",
              "  </div>\n",
              "  "
            ]
          },
          "metadata": {},
          "execution_count": 53
        }
      ]
    },
    {
      "cell_type": "markdown",
      "source": [
        "## Target variable analysis (price)"
      ],
      "metadata": {
        "id": "zz2qJdZONOVP"
      }
    },
    {
      "cell_type": "code",
      "execution_count": 19,
      "metadata": {
        "id": "U8K4Tnx6Er23",
        "colab": {
          "base_uri": "https://localhost:8080/",
          "height": 427
        },
        "outputId": "58ac19f9-f700-4372-b2b1-e17c8a0a048c"
      },
      "outputs": [
        {
          "output_type": "display_data",
          "data": {
            "text/plain": [
              "<Figure size 1080x504 with 1 Axes>"
            ],
            "image/png": "[encoded data removed]"
          },
          "metadata": {
            "needs_background": "light"
          }
        }
      ],
      "source": [
        "plt.figure(figsize=(15, 7))\n",
        "\n",
        "sns.histplot(df.price, bins=40)\n",
        "plt.ylabel('Frequency')\n",
        "plt.xlabel('Price')\n",
        "plt.title('Distribution of prices')\n",
        "\n",
        "plt.show()"
      ]
    },
    {
      "cell_type": "markdown",
      "source": [
        "This is a `long tail` distribution, which is a typical situation for many items with low prices and very few expensive ones.\n",
        "    \n",
        "    We can have a closer look by zooming in a bit and looking at values below $100,000"
      ],
      "metadata": {
        "id": "cbWwqIydNo_3"
      }
    },
    {
      "cell_type": "code",
      "execution_count": 22,
      "metadata": {
        "id": "GSitSkYFEr24",
        "colab": {
          "base_uri": "https://localhost:8080/",
          "height": 301
        },
        "outputId": "ec46ba0b-8dcf-4925-ddd3-f34538274b6c"
      },
      "outputs": [
        {
          "output_type": "display_data",
          "data": {
            "text/plain": [
              "<Figure size 432x288 with 1 Axes>"
            ],
            "image/png": "[encoded data removed]"
          },
          "metadata": {
            "needs_background": "light"
          }
        }
      ],
      "source": [
        "plt.figure(figsize=(6, 4))\n",
        "\n",
        "sns.histplot(df.price[df.price < 80000], bins=40)\n",
        "plt.ylabel('Frequency')\n",
        "plt.xlabel('Price')\n",
        "plt.title('Distribution of prices')\n",
        "\n",
        "plt.show()"
      ]
    },
    {
      "cell_type": "markdown",
      "source": [
        "The long tail makes it quite difficult for us to see the distribution, but it has an even stronger effect on a model: such distribution can greatly confuse the model, so it won’t learn well enough. \n",
        "    \n",
        "    One way to solve this problem is log transformation. "
      ],
      "metadata": {
        "id": "lfkTBOyjOXIV"
      }
    },
    {
      "cell_type": "markdown",
      "source": [
        "## Log Transformation"
      ],
      "metadata": {
        "id": "gmpIhRh6-l2D"
      }
    },
    {
      "cell_type": "code",
      "execution_count": 23,
      "metadata": {
        "id": "TCtYtP46Er24",
        "colab": {
          "base_uri": "https://localhost:8080/",
          "height": 301
        },
        "outputId": "cafabc48-e9ac-4e8a-d494-3f7f1ec2d1ac"
      },
      "outputs": [
        {
          "output_type": "display_data",
          "data": {
            "text/plain": [
              "<Figure size 432x288 with 1 Axes>"
            ],
            "image/png": "[encoded data removed]"
          },
          "metadata": {
            "needs_background": "light"
          }
        }
      ],
      "source": [
        "df['log_price'] = np.log1p(df.price)\n",
        "\n",
        "plt.figure(figsize=(6, 4))\n",
        "\n",
        "sns.histplot(df.log_price, bins=40)\n",
        "plt.ylabel('Frequency')\n",
        "plt.xlabel('Log(Price + 1)')\n",
        "plt.title('Distribution of prices after log tranformation')\n",
        "\n",
        "plt.show()"
      ]
    },
    {
      "cell_type": "markdown",
      "source": [
        "The effect of the long tail is removed, and we can see the entire distribution in one plot.\n",
        "\n",
        "The +1 part is important in cases that have zeros. The logarithm of zero is minus infinity, but the logarithm of one is zero. \n",
        "\n",
        "For our specific case, zero values are not an issue—all the prices we have start at $2,000—but it’s still a convention that we follow."
      ],
      "metadata": {
        "id": "mP0Zb5P3PBrv"
      }
    },
    {
      "cell_type": "code",
      "source": [
        "df.price.skew()"
      ],
      "metadata": {
        "colab": {
          "base_uri": "https://localhost:8080/"
        },
        "id": "877EvEa72UNM",
        "outputId": "66c463e3-b3ae-45c4-ddb1-74bcc50e02d1"
      },
      "execution_count": 24,
      "outputs": [
        {
          "output_type": "execute_result",
          "data": {
            "text/plain": [
              "11.771987129334972"
            ]
          },
          "metadata": {},
          "execution_count": 24
        }
      ]
    },
    {
      "cell_type": "code",
      "source": [
        "df.log_price.skew()"
      ],
      "metadata": {
        "colab": {
          "base_uri": "https://localhost:8080/"
        },
        "id": "6eXRBb742X8w",
        "outputId": "b0a1484e-f325-4180-b5a3-e05ec88e4147"
      },
      "execution_count": 25,
      "outputs": [
        {
          "output_type": "execute_result",
          "data": {
            "text/plain": [
              "-0.9178678067039072"
            ]
          },
          "metadata": {},
          "execution_count": 25
        }
      ]
    },
    {
      "cell_type": "markdown",
      "source": [
        "**Positive Skewness vs. Negative Skewness**\n",
        "\n",
        "![](https://www.researchgate.net/profile/Marco-Faria/publication/294890337/figure/fig5/AS:668873900716049@1536483373457/a-Negative-skewness-b-Normal-curve-c-Positive-skewness-Durkhure-and-Lodwal-2014.ppm)"
      ],
      "metadata": {
        "id": "H2-KVIz-3E9Q"
      }
    },
    {
      "cell_type": "markdown",
      "source": [
        "> Check this article\n",
        "\n",
        "[Top 3 Methods for Handling Skewed Data](https://towardsdatascience.com/top-3-methods-for-handling-skewed-data-1334e0debf45)"
      ],
      "metadata": {
        "id": "VJc_sF8A-qq7"
      }
    },
    {
      "cell_type": "code",
      "source": [
        ""
      ],
      "metadata": {
        "id": "cxn8cjQVr8X0"
      },
      "execution_count": null,
      "outputs": []
    },
    {
      "cell_type": "markdown",
      "source": [
        "## Check missing values"
      ],
      "metadata": {
        "id": "nox23Sx64p6H"
      }
    },
    {
      "cell_type": "code",
      "execution_count": 59,
      "metadata": {
        "id": "PPDZaxT0Er25",
        "colab": {
          "base_uri": "https://localhost:8080/"
        },
        "outputId": "b174ecca-cadb-4087-94d3-dd66db49440e"
      },
      "outputs": [
        {
          "output_type": "execute_result",
          "data": {
            "text/plain": [
              "make                    0\n",
              "model                   0\n",
              "year                    0\n",
              "engine_fuel_type        3\n",
              "engine_hp              69\n",
              "engine_cylinders       30\n",
              "transmission_type       0\n",
              "driven_wheels           0\n",
              "number_of_doors         6\n",
              "market_category      3742\n",
              "vehicle_size            0\n",
              "vehicle_style           0\n",
              "highway_mpg             0\n",
              "city_mpg                0\n",
              "popularity              0\n",
              "price                   0\n",
              "log_price               0\n",
              "dtype: int64"
            ]
          },
          "metadata": {},
          "execution_count": 59
        }
      ],
      "source": [
        "df.isnull().sum()"
      ]
    },
    {
      "cell_type": "markdown",
      "source": [
        "> Keep in mind that we will need to handle missing values to correctly train our machine.\n",
        "\n",
        "> But at least, Our target (price) has no missing values."
      ],
      "metadata": {
        "id": "tvsn17uY95dT"
      }
    },
    {
      "cell_type": "markdown",
      "source": [
        "## Check categorical columns"
      ],
      "metadata": {
        "id": "_-gY5uit8MAA"
      }
    },
    {
      "cell_type": "code",
      "source": [
        "string_columns"
      ],
      "metadata": {
        "colab": {
          "base_uri": "https://localhost:8080/"
        },
        "id": "3sGNFiKa8Hx5",
        "outputId": "9bcaef9d-ef8a-44cd-bede-b67d1185143d"
      },
      "execution_count": 60,
      "outputs": [
        {
          "output_type": "execute_result",
          "data": {
            "text/plain": [
              "['make',\n",
              " 'model',\n",
              " 'engine_fuel_type',\n",
              " 'transmission_type',\n",
              " 'driven_wheels',\n",
              " 'market_category',\n",
              " 'vehicle_size',\n",
              " 'vehicle_style']"
            ]
          },
          "metadata": {},
          "execution_count": 60
        }
      ]
    },
    {
      "cell_type": "markdown",
      "source": [
        "> Keep in mind that we will need to handle categorical columns ( to be transformed into numerical form)"
      ],
      "metadata": {
        "id": "RWZ3g1ZS8Q75"
      }
    },
    {
      "cell_type": "markdown",
      "source": [
        "## Some Questions"
      ],
      "metadata": {
        "id": "wq4akXYj7yGB"
      }
    },
    {
      "cell_type": "markdown",
      "source": [
        "### What's the average price of BMW cars in the dataset?"
      ],
      "metadata": {
        "id": "3nxX_JHg5wxy"
      }
    },
    {
      "cell_type": "code",
      "source": [
        "df.make.value_counts()"
      ],
      "metadata": {
        "colab": {
          "base_uri": "https://localhost:8080/"
        },
        "id": "WGr1g-vb5zhY",
        "outputId": "c68f712c-1733-4093-e3e5-7f404e1646fe"
      },
      "execution_count": 61,
      "outputs": [
        {
          "output_type": "execute_result",
          "data": {
            "text/plain": [
              "chevrolet        1123\n",
              "ford              881\n",
              "volkswagen        809\n",
              "toyota            746\n",
              "dodge             626\n",
              "nissan            558\n",
              "gmc               515\n",
              "honda             449\n",
              "mazda             423\n",
              "cadillac          397\n",
              "mercedes-benz     353\n",
              "suzuki            351\n",
              "bmw               334\n",
              "infiniti          330\n",
              "audi              328\n",
              "hyundai           303\n",
              "volvo             281\n",
              "subaru            256\n",
              "acura             252\n",
              "kia               231\n",
              "mitsubishi        213\n",
              "lexus             202\n",
              "buick             196\n",
              "chrysler          187\n",
              "pontiac           186\n",
              "lincoln           164\n",
              "oldsmobile        150\n",
              "land_rover        143\n",
              "porsche           136\n",
              "saab              111\n",
              "aston_martin       93\n",
              "plymouth           82\n",
              "bentley            74\n",
              "ferrari            69\n",
              "fiat               62\n",
              "scion              60\n",
              "maserati           58\n",
              "lamborghini        52\n",
              "rolls-royce        31\n",
              "lotus              29\n",
              "tesla              18\n",
              "hummer             17\n",
              "maybach            16\n",
              "alfa_romeo          5\n",
              "mclaren             5\n",
              "spyker              3\n",
              "genesis             3\n",
              "bugatti             3\n",
              "Name: make, dtype: int64"
            ]
          },
          "metadata": {},
          "execution_count": 61
        }
      ]
    },
    {
      "cell_type": "code",
      "source": [
        "df.groupby('make').mean()"
      ],
      "metadata": {
        "colab": {
          "base_uri": "https://localhost:8080/",
          "height": 0
        },
        "id": "p6hsCRO66Ubo",
        "outputId": "4c7505a2-550f-434c-94a2-c68df1bd98b6"
      },
      "execution_count": 62,
      "outputs": [
        {
          "output_type": "execute_result",
          "data": {
            "text/plain": [
              "                  year  engine_hp  engine_cylinders  number_of_doors  \\\n",
              "make                                                                   \n",
              "acura         2,010.06     244.80              5.33             3.62   \n",
              "alfa_romeo    2,015.40     237.00              4.00             2.00   \n",
              "aston_martin  2,013.02     484.32             10.62             2.15   \n",
              "audi          2,012.23     277.70              5.56             3.47   \n",
              "bentley       2,011.70     533.85              9.73             2.68   \n",
              "bmw           2,014.35     326.91              5.96             3.16   \n",
              "bugatti       2,008.33   1,001.00             16.00             2.00   \n",
              "buick         2,010.01     219.24              5.32             3.84   \n",
              "cadillac      2,013.15     332.31              6.43             3.60   \n",
              "chevrolet     2,010.09     246.97              5.91             3.38   \n",
              "chrysler      2,008.46     229.14              5.59             3.63   \n",
              "dodge         2,005.44     244.42              6.26             3.21   \n",
              "ferrari       2,007.52     511.96              9.80             2.00   \n",
              "fiat          2,016.03     143.56              3.81             2.90   \n",
              "ford          2,009.74     243.10              5.91             3.38   \n",
              "genesis       2,017.00     347.33              6.67             4.00   \n",
              "gmc           2,009.13     259.84              6.45             3.50   \n",
              "honda         2,013.42     195.75              4.66             3.54   \n",
              "hummer        2,009.35     261.24              6.06             4.00   \n",
              "hyundai       2,012.70     201.92              4.67             3.50   \n",
              "infiniti      2,010.96     310.07              6.15             3.55   \n",
              "kia           2,013.61     206.83              4.59             3.94   \n",
              "lamborghini   2,012.73     614.08             10.88             2.00   \n",
              "land_rover    2,012.67     322.10              6.13             3.79   \n",
              "lexus         2,011.62     277.42              6.25             3.71   \n",
              "lincoln       2,011.57     284.91              6.07             3.85   \n",
              "lotus         2,010.83     275.97              5.24             2.00   \n",
              "maserati      2,012.78     420.79              7.34             2.79   \n",
              "maybach       2,010.94     590.50             12.00             4.00   \n",
              "mazda         2,008.36     171.99              4.62             3.46   \n",
              "mclaren       2,014.20     610.40              8.00             2.00   \n",
              "mercedes-benz 2,010.52     350.18              6.71             3.35   \n",
              "mitsubishi    2,009.16     173.43              4.68             3.60   \n",
              "nissan        2,012.40     239.92              5.34             3.43   \n",
              "oldsmobile    1,997.61     177.47              5.57             3.57   \n",
              "plymouth      1,995.46     131.56              4.39             3.21   \n",
              "pontiac       2,003.10     190.30              5.48             3.19   \n",
              "porsche       2,013.38     392.79              6.13             2.65   \n",
              "rolls-royce   2,012.52     487.55             11.87             3.29   \n",
              "saab          2,006.08     220.52              4.54             3.48   \n",
              "scion         2,013.42     154.43              4.00             3.00   \n",
              "spyker        2,009.00     400.00              8.00             2.00   \n",
              "subaru        2,011.25     197.31              4.37             3.77   \n",
              "suzuki        2,006.31     160.29              4.55             3.82   \n",
              "tesla         2,015.28        NaN              0.00             4.00   \n",
              "toyota        2,012.54     236.15              5.60             3.59   \n",
              "volkswagen    2,012.81     189.76              4.37             3.22   \n",
              "volvo         2,008.06     230.97              4.72             3.91   \n",
              "\n",
              "               highway_mpg  city_mpg  popularity        price  log_price  \n",
              "make                                                                      \n",
              "acura                28.11     19.94      204.00    34,887.59      10.14  \n",
              "alfa_romeo           34.00     24.00      113.00    61,600.00      11.02  \n",
              "aston_martin         18.89     12.53      259.00   197,910.38      12.14  \n",
              "audi                 28.82     19.59    3,105.00    53,452.11      10.48  \n",
              "bentley              18.91     11.55      520.00   247,169.32      12.40  \n",
              "bmw                  29.25     20.74    3,916.00    61,546.76      10.91  \n",
              "bugatti              14.00      8.00      820.00 1,757,223.67      14.37  \n",
              "buick                26.95     18.70      155.00    28,206.61       9.96  \n",
              "cadillac             25.24     17.36    1,624.00    56,231.32      10.81  \n",
              "chevrolet            25.82     19.02    1,385.00    28,350.39       9.96  \n",
              "chrysler             26.37     17.76    1,013.00    26,722.96       9.91  \n",
              "dodge                22.35     16.07    1,851.00    22,390.06       9.45  \n",
              "ferrari              15.72     10.57    2,774.00   238,218.84      12.34  \n",
              "fiat                 37.34     30.65      819.00    22,670.24      10.02  \n",
              "ford                 24.01     17.96    5,657.00    27,399.27       9.88  \n",
              "genesis              25.33     16.33       21.00    46,616.67      10.74  \n",
              "gmc                  21.40     15.81      549.00    30,493.30       9.99  \n",
              "honda                32.57     25.44    2,202.00    26,674.34      10.09  \n",
              "hummer               17.29     13.53      130.00    36,464.41      10.50  \n",
              "hyundai              30.39     22.34    1,439.00    24,597.04       9.96  \n",
              "infiniti             24.78     17.83      190.00    42,394.21      10.52  \n",
              "kia                  30.65     23.85    1,720.00    25,310.17      10.05  \n",
              "lamborghini          18.02     11.52    1,158.00   331,567.31      12.61  \n",
              "land_rover           22.13     16.23      258.00    67,823.22      10.99  \n",
              "lexus                25.88     20.31      454.00    47,549.07      10.57  \n",
              "lincoln              24.49     17.89       61.00    42,839.83      10.49  \n",
              "lotus                26.55     18.76      613.00    69,188.28      11.12  \n",
              "maserati             20.29     13.33      238.00   114,207.71      11.61  \n",
              "maybach              16.00     10.00       67.00   546,221.88      13.11  \n",
              "mazda                27.85     21.25      586.00    20,039.38       9.63  \n",
              "mclaren              22.20     15.60      416.00   239,805.00      12.38  \n",
              "mercedes-benz        24.83     18.18      617.00    71,476.23      10.55  \n",
              "mitsubishi           27.54     21.91      436.00    21,240.54       9.75  \n",
              "nissan               27.80     21.87    2,009.00    28,583.43       9.99  \n",
              "oldsmobile           26.23     17.61       26.00    11,542.54       8.59  \n",
              "plymouth             27.96     20.79      535.00     3,122.90       7.73  \n",
              "pontiac              27.07     18.68      210.00    19,321.55       9.52  \n",
              "porsche              25.37     17.47    1,715.00   101,622.40      11.23  \n",
              "rolls-royce          19.13     11.84       86.00   351,130.65      12.74  \n",
              "saab                 26.35     17.77      376.00    27,413.50       9.67  \n",
              "scion                32.30     25.32      105.00    19,932.50       9.87  \n",
              "spyker               18.00     13.00        2.00   213,323.33      12.27  \n",
              "subaru               28.68     21.79      640.00    24,827.50       9.91  \n",
              "suzuki               26.03     19.91      481.00    17,907.21       9.61  \n",
              "tesla                98.94     94.11    1,391.00    85,255.56      11.33  \n",
              "toyota               26.45     21.55    2,031.00    29,030.02      10.06  \n",
              "volkswagen           32.13     23.58      873.00    28,102.38      10.14  \n",
              "volvo                27.20     19.58      870.00    28,541.16       9.64  "
            ],
            "text/html": [
              "\n",
              "  <div id=\"df-32d02339-74d9-4eae-b679-c47101662623\">\n",
              "    <div class=\"colab-df-container\">\n",
              "      <div>\n",
              "<style scoped>\n",
              "    .dataframe tbody tr th:only-of-type {\n",
              "        vertical-align: middle;\n",
              "    }\n",
              "\n",
              "    .dataframe tbody tr th {\n",
              "        vertical-align: top;\n",
              "    }\n",
              "\n",
              "    .dataframe thead th {\n",
              "        text-align: right;\n",
              "    }\n",
              "</style>\n",
              "<table border=\"1\" class=\"dataframe\">\n",
              "  <thead>\n",
              "    <tr style=\"text-align: right;\">\n",
              "      <th></th>\n",
              "      <th>year</th>\n",
              "      <th>engine_hp</th>\n",
              "      <th>engine_cylinders</th>\n",
              "      <th>number_of_doors</th>\n",
              "      <th>highway_mpg</th>\n",
              "      <th>city_mpg</th>\n",
              "      <th>popularity</th>\n",
              "      <th>price</th>\n",
              "      <th>log_price</th>\n",
              "    </tr>\n",
              "    <tr>\n",
              "      <th>make</th>\n",
              "      <th></th>\n",
              "      <th></th>\n",
              "      <th></th>\n",
              "      <th></th>\n",
              "      <th></th>\n",
              "      <th></th>\n",
              "      <th></th>\n",
              "      <th></th>\n",
              "      <th></th>\n",
              "    </tr>\n",
              "  </thead>\n",
              "  <tbody>\n",
              "    <tr>\n",
              "      <th>acura</th>\n",
              "      <td>2,010.06</td>\n",
              "      <td>244.80</td>\n",
              "      <td>5.33</td>\n",
              "      <td>3.62</td>\n",
              "      <td>28.11</td>\n",
              "      <td>19.94</td>\n",
              "      <td>204.00</td>\n",
              "      <td>34,887.59</td>\n",
              "      <td>10.14</td>\n",
              "    </tr>\n",
              "    <tr>\n",
              "      <th>alfa_romeo</th>\n",
              "      <td>2,015.40</td>\n",
              "      <td>237.00</td>\n",
              "      <td>4.00</td>\n",
              "      <td>2.00</td>\n",
              "      <td>34.00</td>\n",
              "      <td>24.00</td>\n",
              "      <td>113.00</td>\n",
              "      <td>61,600.00</td>\n",
              "      <td>11.02</td>\n",
              "    </tr>\n",
              "    <tr>\n",
              "      <th>aston_martin</th>\n",
              "      <td>2,013.02</td>\n",
              "      <td>484.32</td>\n",
              "      <td>10.62</td>\n",
              "      <td>2.15</td>\n",
              "      <td>18.89</td>\n",
              "      <td>12.53</td>\n",
              "      <td>259.00</td>\n",
              "      <td>197,910.38</td>\n",
              "      <td>12.14</td>\n",
              "    </tr>\n",
              "    <tr>\n",
              "      <th>audi</th>\n",
              "      <td>2,012.23</td>\n",
              "      <td>277.70</td>\n",
              "      <td>5.56</td>\n",
              "      <td>3.47</td>\n",
              "      <td>28.82</td>\n",
              "      <td>19.59</td>\n",
              "      <td>3,105.00</td>\n",
              "      <td>53,452.11</td>\n",
              "      <td>10.48</td>\n",
              "    </tr>\n",
              "    <tr>\n",
              "      <th>bentley</th>\n",
              "      <td>2,011.70</td>\n",
              "      <td>533.85</td>\n",
              "      <td>9.73</td>\n",
              "      <td>2.68</td>\n",
              "      <td>18.91</td>\n",
              "      <td>11.55</td>\n",
              "      <td>520.00</td>\n",
              "      <td>247,169.32</td>\n",
              "      <td>12.40</td>\n",
              "    </tr>\n",
              "    <tr>\n",
              "      <th>bmw</th>\n",
              "      <td>2,014.35</td>\n",
              "      <td>326.91</td>\n",
              "      <td>5.96</td>\n",
              "      <td>3.16</td>\n",
              "      <td>29.25</td>\n",
              "      <td>20.74</td>\n",
              "      <td>3,916.00</td>\n",
              "      <td>61,546.76</td>\n",
              "      <td>10.91</td>\n",
              "    </tr>\n",
              "    <tr>\n",
              "      <th>bugatti</th>\n",
              "      <td>2,008.33</td>\n",
              "      <td>1,001.00</td>\n",
              "      <td>16.00</td>\n",
              "      <td>2.00</td>\n",
              "      <td>14.00</td>\n",
              "      <td>8.00</td>\n",
              "      <td>820.00</td>\n",
              "      <td>1,757,223.67</td>\n",
              "      <td>14.37</td>\n",
              "    </tr>\n",
              "    <tr>\n",
              "      <th>buick</th>\n",
              "      <td>2,010.01</td>\n",
              "      <td>219.24</td>\n",
              "      <td>5.32</td>\n",
              "      <td>3.84</td>\n",
              "      <td>26.95</td>\n",
              "      <td>18.70</td>\n",
              "      <td>155.00</td>\n",
              "      <td>28,206.61</td>\n",
              "      <td>9.96</td>\n",
              "    </tr>\n",
              "    <tr>\n",
              "      <th>cadillac</th>\n",
              "      <td>2,013.15</td>\n",
              "      <td>332.31</td>\n",
              "      <td>6.43</td>\n",
              "      <td>3.60</td>\n",
              "      <td>25.24</td>\n",
              "      <td>17.36</td>\n",
              "      <td>1,624.00</td>\n",
              "      <td>56,231.32</td>\n",
              "      <td>10.81</td>\n",
              "    </tr>\n",
              "    <tr>\n",
              "      <th>chevrolet</th>\n",
              "      <td>2,010.09</td>\n",
              "      <td>246.97</td>\n",
              "      <td>5.91</td>\n",
              "      <td>3.38</td>\n",
              "      <td>25.82</td>\n",
              "      <td>19.02</td>\n",
              "      <td>1,385.00</td>\n",
              "      <td>28,350.39</td>\n",
              "      <td>9.96</td>\n",
              "    </tr>\n",
              "    <tr>\n",
              "      <th>chrysler</th>\n",
              "      <td>2,008.46</td>\n",
              "      <td>229.14</td>\n",
              "      <td>5.59</td>\n",
              "      <td>3.63</td>\n",
              "      <td>26.37</td>\n",
              "      <td>17.76</td>\n",
              "      <td>1,013.00</td>\n",
              "      <td>26,722.96</td>\n",
              "      <td>9.91</td>\n",
              "    </tr>\n",
              "    <tr>\n",
              "      <th>dodge</th>\n",
              "      <td>2,005.44</td>\n",
              "      <td>244.42</td>\n",
              "      <td>6.26</td>\n",
              "      <td>3.21</td>\n",
              "      <td>22.35</td>\n",
              "      <td>16.07</td>\n",
              "      <td>1,851.00</td>\n",
              "      <td>22,390.06</td>\n",
              "      <td>9.45</td>\n",
              "    </tr>\n",
              "    <tr>\n",
              "      <th>ferrari</th>\n",
              "      <td>2,007.52</td>\n",
              "      <td>511.96</td>\n",
              "      <td>9.80</td>\n",
              "      <td>2.00</td>\n",
              "      <td>15.72</td>\n",
              "      <td>10.57</td>\n",
              "      <td>2,774.00</td>\n",
              "      <td>238,218.84</td>\n",
              "      <td>12.34</td>\n",
              "    </tr>\n",
              "    <tr>\n",
              "      <th>fiat</th>\n",
              "      <td>2,016.03</td>\n",
              "      <td>143.56</td>\n",
              "      <td>3.81</td>\n",
              "      <td>2.90</td>\n",
              "      <td>37.34</td>\n",
              "      <td>30.65</td>\n",
              "      <td>819.00</td>\n",
              "      <td>22,670.24</td>\n",
              "      <td>10.02</td>\n",
              "    </tr>\n",
              "    <tr>\n",
              "      <th>ford</th>\n",
              "      <td>2,009.74</td>\n",
              "      <td>243.10</td>\n",
              "      <td>5.91</td>\n",
              "      <td>3.38</td>\n",
              "      <td>24.01</td>\n",
              "      <td>17.96</td>\n",
              "      <td>5,657.00</td>\n",
              "      <td>27,399.27</td>\n",
              "      <td>9.88</td>\n",
              "    </tr>\n",
              "    <tr>\n",
              "      <th>genesis</th>\n",
              "      <td>2,017.00</td>\n",
              "      <td>347.33</td>\n",
              "      <td>6.67</td>\n",
              "      <td>4.00</td>\n",
              "      <td>25.33</td>\n",
              "      <td>16.33</td>\n",
              "      <td>21.00</td>\n",
              "      <td>46,616.67</td>\n",
              "      <td>10.74</td>\n",
              "    </tr>\n",
              "    <tr>\n",
              "      <th>gmc</th>\n",
              "      <td>2,009.13</td>\n",
              "      <td>259.84</td>\n",
              "      <td>6.45</td>\n",
              "      <td>3.50</td>\n",
              "      <td>21.40</td>\n",
              "      <td>15.81</td>\n",
              "      <td>549.00</td>\n",
              "      <td>30,493.30</td>\n",
              "      <td>9.99</td>\n",
              "    </tr>\n",
              "    <tr>\n",
              "      <th>honda</th>\n",
              "      <td>2,013.42</td>\n",
              "      <td>195.75</td>\n",
              "      <td>4.66</td>\n",
              "      <td>3.54</td>\n",
              "      <td>32.57</td>\n",
              "      <td>25.44</td>\n",
              "      <td>2,202.00</td>\n",
              "      <td>26,674.34</td>\n",
              "      <td>10.09</td>\n",
              "    </tr>\n",
              "    <tr>\n",
              "      <th>hummer</th>\n",
              "      <td>2,009.35</td>\n",
              "      <td>261.24</td>\n",
              "      <td>6.06</td>\n",
              "      <td>4.00</td>\n",
              "      <td>17.29</td>\n",
              "      <td>13.53</td>\n",
              "      <td>130.00</td>\n",
              "      <td>36,464.41</td>\n",
              "      <td>10.50</td>\n",
              "    </tr>\n",
              "    <tr>\n",
              "      <th>hyundai</th>\n",
              "      <td>2,012.70</td>\n",
              "      <td>201.92</td>\n",
              "      <td>4.67</td>\n",
              "      <td>3.50</td>\n",
              "      <td>30.39</td>\n",
              "      <td>22.34</td>\n",
              "      <td>1,439.00</td>\n",
              "      <td>24,597.04</td>\n",
              "      <td>9.96</td>\n",
              "    </tr>\n",
              "    <tr>\n",
              "      <th>infiniti</th>\n",
              "      <td>2,010.96</td>\n",
              "      <td>310.07</td>\n",
              "      <td>6.15</td>\n",
              "      <td>3.55</td>\n",
              "      <td>24.78</td>\n",
              "      <td>17.83</td>\n",
              "      <td>190.00</td>\n",
              "      <td>42,394.21</td>\n",
              "      <td>10.52</td>\n",
              "    </tr>\n",
              "    <tr>\n",
              "      <th>kia</th>\n",
              "      <td>2,013.61</td>\n",
              "      <td>206.83</td>\n",
              "      <td>4.59</td>\n",
              "      <td>3.94</td>\n",
              "      <td>30.65</td>\n",
              "      <td>23.85</td>\n",
              "      <td>1,720.00</td>\n",
              "      <td>25,310.17</td>\n",
              "      <td>10.05</td>\n",
              "    </tr>\n",
              "    <tr>\n",
              "      <th>lamborghini</th>\n",
              "      <td>2,012.73</td>\n",
              "      <td>614.08</td>\n",
              "      <td>10.88</td>\n",
              "      <td>2.00</td>\n",
              "      <td>18.02</td>\n",
              "      <td>11.52</td>\n",
              "      <td>1,158.00</td>\n",
              "      <td>331,567.31</td>\n",
              "      <td>12.61</td>\n",
              "    </tr>\n",
              "    <tr>\n",
              "      <th>land_rover</th>\n",
              "      <td>2,012.67</td>\n",
              "      <td>322.10</td>\n",
              "      <td>6.13</td>\n",
              "      <td>3.79</td>\n",
              "      <td>22.13</td>\n",
              "      <td>16.23</td>\n",
              "      <td>258.00</td>\n",
              "      <td>67,823.22</td>\n",
              "      <td>10.99</td>\n",
              "    </tr>\n",
              "    <tr>\n",
              "      <th>lexus</th>\n",
              "      <td>2,011.62</td>\n",
              "      <td>277.42</td>\n",
              "      <td>6.25</td>\n",
              "      <td>3.71</td>\n",
              "      <td>25.88</td>\n",
              "      <td>20.31</td>\n",
              "      <td>454.00</td>\n",
              "      <td>47,549.07</td>\n",
              "      <td>10.57</td>\n",
              "    </tr>\n",
              "    <tr>\n",
              "      <th>lincoln</th>\n",
              "      <td>2,011.57</td>\n",
              "      <td>284.91</td>\n",
              "      <td>6.07</td>\n",
              "      <td>3.85</td>\n",
              "      <td>24.49</td>\n",
              "      <td>17.89</td>\n",
              "      <td>61.00</td>\n",
              "      <td>42,839.83</td>\n",
              "      <td>10.49</td>\n",
              "    </tr>\n",
              "    <tr>\n",
              "      <th>lotus</th>\n",
              "      <td>2,010.83</td>\n",
              "      <td>275.97</td>\n",
              "      <td>5.24</td>\n",
              "      <td>2.00</td>\n",
              "      <td>26.55</td>\n",
              "      <td>18.76</td>\n",
              "      <td>613.00</td>\n",
              "      <td>69,188.28</td>\n",
              "      <td>11.12</td>\n",
              "    </tr>\n",
              "    <tr>\n",
              "      <th>maserati</th>\n",
              "      <td>2,012.78</td>\n",
              "      <td>420.79</td>\n",
              "      <td>7.34</td>\n",
              "      <td>2.79</td>\n",
              "      <td>20.29</td>\n",
              "      <td>13.33</td>\n",
              "      <td>238.00</td>\n",
              "      <td>114,207.71</td>\n",
              "      <td>11.61</td>\n",
              "    </tr>\n",
              "    <tr>\n",
              "      <th>maybach</th>\n",
              "      <td>2,010.94</td>\n",
              "      <td>590.50</td>\n",
              "      <td>12.00</td>\n",
              "      <td>4.00</td>\n",
              "      <td>16.00</td>\n",
              "      <td>10.00</td>\n",
              "      <td>67.00</td>\n",
              "      <td>546,221.88</td>\n",
              "      <td>13.11</td>\n",
              "    </tr>\n",
              "    <tr>\n",
              "      <th>mazda</th>\n",
              "      <td>2,008.36</td>\n",
              "      <td>171.99</td>\n",
              "      <td>4.62</td>\n",
              "      <td>3.46</td>\n",
              "      <td>27.85</td>\n",
              "      <td>21.25</td>\n",
              "      <td>586.00</td>\n",
              "      <td>20,039.38</td>\n",
              "      <td>9.63</td>\n",
              "    </tr>\n",
              "    <tr>\n",
              "      <th>mclaren</th>\n",
              "      <td>2,014.20</td>\n",
              "      <td>610.40</td>\n",
              "      <td>8.00</td>\n",
              "      <td>2.00</td>\n",
              "      <td>22.20</td>\n",
              "      <td>15.60</td>\n",
              "      <td>416.00</td>\n",
              "      <td>239,805.00</td>\n",
              "      <td>12.38</td>\n",
              "    </tr>\n",
              "    <tr>\n",
              "      <th>mercedes-benz</th>\n",
              "      <td>2,010.52</td>\n",
              "      <td>350.18</td>\n",
              "      <td>6.71</td>\n",
              "      <td>3.35</td>\n",
              "      <td>24.83</td>\n",
              "      <td>18.18</td>\n",
              "      <td>617.00</td>\n",
              "      <td>71,476.23</td>\n",
              "      <td>10.55</td>\n",
              "    </tr>\n",
              "    <tr>\n",
              "      <th>mitsubishi</th>\n",
              "      <td>2,009.16</td>\n",
              "      <td>173.43</td>\n",
              "      <td>4.68</td>\n",
              "      <td>3.60</td>\n",
              "      <td>27.54</td>\n",
              "      <td>21.91</td>\n",
              "      <td>436.00</td>\n",
              "      <td>21,240.54</td>\n",
              "      <td>9.75</td>\n",
              "    </tr>\n",
              "    <tr>\n",
              "      <th>nissan</th>\n",
              "      <td>2,012.40</td>\n",
              "      <td>239.92</td>\n",
              "      <td>5.34</td>\n",
              "      <td>3.43</td>\n",
              "      <td>27.80</td>\n",
              "      <td>21.87</td>\n",
              "      <td>2,009.00</td>\n",
              "      <td>28,583.43</td>\n",
              "      <td>9.99</td>\n",
              "    </tr>\n",
              "    <tr>\n",
              "      <th>oldsmobile</th>\n",
              "      <td>1,997.61</td>\n",
              "      <td>177.47</td>\n",
              "      <td>5.57</td>\n",
              "      <td>3.57</td>\n",
              "      <td>26.23</td>\n",
              "      <td>17.61</td>\n",
              "      <td>26.00</td>\n",
              "      <td>11,542.54</td>\n",
              "      <td>8.59</td>\n",
              "    </tr>\n",
              "    <tr>\n",
              "      <th>plymouth</th>\n",
              "      <td>1,995.46</td>\n",
              "      <td>131.56</td>\n",
              "      <td>4.39</td>\n",
              "      <td>3.21</td>\n",
              "      <td>27.96</td>\n",
              "      <td>20.79</td>\n",
              "      <td>535.00</td>\n",
              "      <td>3,122.90</td>\n",
              "      <td>7.73</td>\n",
              "    </tr>\n",
              "    <tr>\n",
              "      <th>pontiac</th>\n",
              "      <td>2,003.10</td>\n",
              "      <td>190.30</td>\n",
              "      <td>5.48</td>\n",
              "      <td>3.19</td>\n",
              "      <td>27.07</td>\n",
              "      <td>18.68</td>\n",
              "      <td>210.00</td>\n",
              "      <td>19,321.55</td>\n",
              "      <td>9.52</td>\n",
              "    </tr>\n",
              "    <tr>\n",
              "      <th>porsche</th>\n",
              "      <td>2,013.38</td>\n",
              "      <td>392.79</td>\n",
              "      <td>6.13</td>\n",
              "      <td>2.65</td>\n",
              "      <td>25.37</td>\n",
              "      <td>17.47</td>\n",
              "      <td>1,715.00</td>\n",
              "      <td>101,622.40</td>\n",
              "      <td>11.23</td>\n",
              "    </tr>\n",
              "    <tr>\n",
              "      <th>rolls-royce</th>\n",
              "      <td>2,012.52</td>\n",
              "      <td>487.55</td>\n",
              "      <td>11.87</td>\n",
              "      <td>3.29</td>\n",
              "      <td>19.13</td>\n",
              "      <td>11.84</td>\n",
              "      <td>86.00</td>\n",
              "      <td>351,130.65</td>\n",
              "      <td>12.74</td>\n",
              "    </tr>\n",
              "    <tr>\n",
              "      <th>saab</th>\n",
              "      <td>2,006.08</td>\n",
              "      <td>220.52</td>\n",
              "      <td>4.54</td>\n",
              "      <td>3.48</td>\n",
              "      <td>26.35</td>\n",
              "      <td>17.77</td>\n",
              "      <td>376.00</td>\n",
              "      <td>27,413.50</td>\n",
              "      <td>9.67</td>\n",
              "    </tr>\n",
              "    <tr>\n",
              "      <th>scion</th>\n",
              "      <td>2,013.42</td>\n",
              "      <td>154.43</td>\n",
              "      <td>4.00</td>\n",
              "      <td>3.00</td>\n",
              "      <td>32.30</td>\n",
              "      <td>25.32</td>\n",
              "      <td>105.00</td>\n",
              "      <td>19,932.50</td>\n",
              "      <td>9.87</td>\n",
              "    </tr>\n",
              "    <tr>\n",
              "      <th>spyker</th>\n",
              "      <td>2,009.00</td>\n",
              "      <td>400.00</td>\n",
              "      <td>8.00</td>\n",
              "      <td>2.00</td>\n",
              "      <td>18.00</td>\n",
              "      <td>13.00</td>\n",
              "      <td>2.00</td>\n",
              "      <td>213,323.33</td>\n",
              "      <td>12.27</td>\n",
              "    </tr>\n",
              "    <tr>\n",
              "      <th>subaru</th>\n",
              "      <td>2,011.25</td>\n",
              "      <td>197.31</td>\n",
              "      <td>4.37</td>\n",
              "      <td>3.77</td>\n",
              "      <td>28.68</td>\n",
              "      <td>21.79</td>\n",
              "      <td>640.00</td>\n",
              "      <td>24,827.50</td>\n",
              "      <td>9.91</td>\n",
              "    </tr>\n",
              "    <tr>\n",
              "      <th>suzuki</th>\n",
              "      <td>2,006.31</td>\n",
              "      <td>160.29</td>\n",
              "      <td>4.55</td>\n",
              "      <td>3.82</td>\n",
              "      <td>26.03</td>\n",
              "      <td>19.91</td>\n",
              "      <td>481.00</td>\n",
              "      <td>17,907.21</td>\n",
              "      <td>9.61</td>\n",
              "    </tr>\n",
              "    <tr>\n",
              "      <th>tesla</th>\n",
              "      <td>2,015.28</td>\n",
              "      <td>NaN</td>\n",
              "      <td>0.00</td>\n",
              "      <td>4.00</td>\n",
              "      <td>98.94</td>\n",
              "      <td>94.11</td>\n",
              "      <td>1,391.00</td>\n",
              "      <td>85,255.56</td>\n",
              "      <td>11.33</td>\n",
              "    </tr>\n",
              "    <tr>\n",
              "      <th>toyota</th>\n",
              "      <td>2,012.54</td>\n",
              "      <td>236.15</td>\n",
              "      <td>5.60</td>\n",
              "      <td>3.59</td>\n",
              "      <td>26.45</td>\n",
              "      <td>21.55</td>\n",
              "      <td>2,031.00</td>\n",
              "      <td>29,030.02</td>\n",
              "      <td>10.06</td>\n",
              "    </tr>\n",
              "    <tr>\n",
              "      <th>volkswagen</th>\n",
              "      <td>2,012.81</td>\n",
              "      <td>189.76</td>\n",
              "      <td>4.37</td>\n",
              "      <td>3.22</td>\n",
              "      <td>32.13</td>\n",
              "      <td>23.58</td>\n",
              "      <td>873.00</td>\n",
              "      <td>28,102.38</td>\n",
              "      <td>10.14</td>\n",
              "    </tr>\n",
              "    <tr>\n",
              "      <th>volvo</th>\n",
              "      <td>2,008.06</td>\n",
              "      <td>230.97</td>\n",
              "      <td>4.72</td>\n",
              "      <td>3.91</td>\n",
              "      <td>27.20</td>\n",
              "      <td>19.58</td>\n",
              "      <td>870.00</td>\n",
              "      <td>28,541.16</td>\n",
              "      <td>9.64</td>\n",
              "    </tr>\n",
              "  </tbody>\n",
              "</table>\n",
              "</div>\n",
              "      <button class=\"colab-df-convert\" onclick=\"convertToInteractive('df-32d02339-74d9-4eae-b679-c47101662623')\"\n",
              "              title=\"Convert this dataframe to an interactive table.\"\n",
              "              style=\"display:none;\">\n",
              "        \n",
              "  <svg xmlns=\"http://www.w3.org/2000/svg\" height=\"24px\"viewBox=\"0 0 24 24\"\n",
              "       width=\"24px\">\n",
              "    <path d=\"M0 0h24v24H0V0z\" fill=\"none\"/>\n",
              "    <path d=\"M18.56 5.44l.94 2.06.94-2.06 2.06-.94-2.06-.94-.94-2.06-.94 2.06-2.06.94zm-11 1L8.5 8.5l.94-2.06 2.06-.94-2.06-.94L8.5 2.5l-.94 2.06-2.06.94zm10 10l.94 2.06.94-2.06 2.06-.94-2.06-.94-.94-2.06-.94 2.06-2.06.94z\"/><path d=\"M17.41 7.96l-1.37-1.37c-.4-.4-.92-.59-1.43-.59-.52 0-1.04.2-1.43.59L10.3 9.45l-7.72 7.72c-.78.78-.78 2.05 0 2.83L4 21.41c.39.39.9.59 1.41.59.51 0 1.02-.2 1.41-.59l7.78-7.78 2.81-2.81c.8-.78.8-2.07 0-2.86zM5.41 20L4 18.59l7.72-7.72 1.47 1.35L5.41 20z\"/>\n",
              "  </svg>\n",
              "      </button>\n",
              "      \n",
              "  <style>\n",
              "    .colab-df-container {\n",
              "      display:flex;\n",
              "      flex-wrap:wrap;\n",
              "      gap: 12px;\n",
              "    }\n",
              "\n",
              "    .colab-df-convert {\n",
              "      background-color: #E8F0FE;\n",
              "      border: none;\n",
              "      border-radius: 50%;\n",
              "      cursor: pointer;\n",
              "      display: none;\n",
              "      fill: #1967D2;\n",
              "      height: 32px;\n",
              "      padding: 0 0 0 0;\n",
              "      width: 32px;\n",
              "    }\n",
              "\n",
              "    .colab-df-convert:hover {\n",
              "      background-color: #E2EBFA;\n",
              "      box-shadow: 0px 1px 2px rgba(60, 64, 67, 0.3), 0px 1px 3px 1px rgba(60, 64, 67, 0.15);\n",
              "      fill: #174EA6;\n",
              "    }\n",
              "\n",
              "    [theme=dark] .colab-df-convert {\n",
              "      background-color: #3B4455;\n",
              "      fill: #D2E3FC;\n",
              "    }\n",
              "\n",
              "    [theme=dark] .colab-df-convert:hover {\n",
              "      background-color: #434B5C;\n",
              "      box-shadow: 0px 1px 3px 1px rgba(0, 0, 0, 0.15);\n",
              "      filter: drop-shadow(0px 1px 2px rgba(0, 0, 0, 0.3));\n",
              "      fill: #FFFFFF;\n",
              "    }\n",
              "  </style>\n",
              "\n",
              "      <script>\n",
              "        const buttonEl =\n",
              "          document.querySelector('#df-32d02339-74d9-4eae-b679-c47101662623 button.colab-df-convert');\n",
              "        buttonEl.style.display =\n",
              "          google.colab.kernel.accessAllowed ? 'block' : 'none';\n",
              "\n",
              "        async function convertToInteractive(key) {\n",
              "          const element = document.querySelector('#df-32d02339-74d9-4eae-b679-c47101662623');\n",
              "          const dataTable =\n",
              "            await google.colab.kernel.invokeFunction('convertToInteractive',\n",
              "                                                     [key], {});\n",
              "          if (!dataTable) return;\n",
              "\n",
              "          const docLinkHtml = 'Like what you see? Visit the ' +\n",
              "            '<a target=\"_blank\" href=https://colab.research.google.com/notebooks/data_table.ipynb>data table notebook</a>'\n",
              "            + ' to learn more about interactive tables.';\n",
              "          element.innerHTML = '';\n",
              "          dataTable['output_type'] = 'display_data';\n",
              "          await google.colab.output.renderOutput(dataTable, element);\n",
              "          const docLink = document.createElement('div');\n",
              "          docLink.innerHTML = docLinkHtml;\n",
              "          element.appendChild(docLink);\n",
              "        }\n",
              "      </script>\n",
              "    </div>\n",
              "  </div>\n",
              "  "
            ]
          },
          "metadata": {},
          "execution_count": 62
        }
      ]
    },
    {
      "cell_type": "code",
      "source": [
        "df.groupby('make').mean()['price']['bmw']"
      ],
      "metadata": {
        "colab": {
          "base_uri": "https://localhost:8080/"
        },
        "id": "9-16E5Li6nqw",
        "outputId": "01cd0c08-b8f7-4307-db86-ad26af82145b"
      },
      "execution_count": 63,
      "outputs": [
        {
          "output_type": "execute_result",
          "data": {
            "text/plain": [
              "61546.76347305389"
            ]
          },
          "metadata": {},
          "execution_count": 63
        }
      ]
    },
    {
      "cell_type": "markdown",
      "source": [
        "### Compare the average price for cars before / after year 2015 \n",
        "\n"
      ],
      "metadata": {
        "id": "jiDiJFIF65rR"
      }
    },
    {
      "cell_type": "code",
      "source": [
        "df[df['year'] >= 2015]"
      ],
      "metadata": {
        "colab": {
          "base_uri": "https://localhost:8080/",
          "height": 0
        },
        "id": "mHvKAfYZ6_To",
        "outputId": "cf95e823-44fe-4fcf-f5c0-9ced77cc2f92"
      },
      "execution_count": 64,
      "outputs": [
        {
          "output_type": "execute_result",
          "data": {
            "text/plain": [
              "       make       model  year                engine_fuel_type  engine_hp  \\\n",
              "32     fiat  124_spider  2017  premium_unleaded_(recommended)     160.00   \n",
              "33     fiat  124_spider  2017  premium_unleaded_(recommended)     160.00   \n",
              "34     fiat  124_spider  2017  premium_unleaded_(recommended)     160.00   \n",
              "41      bmw    2_series  2016     premium_unleaded_(required)     240.00   \n",
              "42      bmw    2_series  2016     premium_unleaded_(required)     240.00   \n",
              "...     ...         ...   ...                             ...        ...   \n",
              "11898   bmw          z4  2015     premium_unleaded_(required)     300.00   \n",
              "11899   bmw          z4  2015     premium_unleaded_(required)     335.00   \n",
              "11900   bmw          z4  2016     premium_unleaded_(required)     300.00   \n",
              "11901   bmw          z4  2016     premium_unleaded_(required)     240.00   \n",
              "11902   bmw          z4  2016     premium_unleaded_(required)     335.00   \n",
              "\n",
              "       engine_cylinders transmission_type     driven_wheels  number_of_doors  \\\n",
              "32                 4.00            manual  rear_wheel_drive             2.00   \n",
              "33                 4.00            manual  rear_wheel_drive             2.00   \n",
              "34                 4.00            manual  rear_wheel_drive             2.00   \n",
              "41                 4.00         automatic  rear_wheel_drive             2.00   \n",
              "42                 4.00         automatic  rear_wheel_drive             2.00   \n",
              "...                 ...               ...               ...              ...   \n",
              "11898              6.00  automated_manual  rear_wheel_drive             2.00   \n",
              "11899              6.00  automated_manual  rear_wheel_drive             2.00   \n",
              "11900              6.00  automated_manual  rear_wheel_drive             2.00   \n",
              "11901              4.00            manual  rear_wheel_drive             2.00   \n",
              "11902              6.00  automated_manual  rear_wheel_drive             2.00   \n",
              "\n",
              "               market_category vehicle_size vehicle_style  highway_mpg  \\\n",
              "32                 performance      compact   convertible           35   \n",
              "33                 performance      compact   convertible           35   \n",
              "34                 performance      compact   convertible           35   \n",
              "41          luxury,performance      compact         coupe           35   \n",
              "42                      luxury      compact   convertible           34   \n",
              "...                        ...          ...           ...          ...   \n",
              "11898  luxury,high-performance      compact   convertible           24   \n",
              "11899  luxury,high-performance      compact   convertible           24   \n",
              "11900  luxury,high-performance      compact   convertible           24   \n",
              "11901       luxury,performance      compact   convertible           34   \n",
              "11902  luxury,high-performance      compact   convertible           24   \n",
              "\n",
              "       city_mpg  popularity  price  log_price  \n",
              "32           26         819  27495      10.22  \n",
              "33           26         819  24995      10.13  \n",
              "34           26         819  28195      10.25  \n",
              "41           23        3916  32850      10.40  \n",
              "42           23        3916  38650      10.56  \n",
              "...         ...         ...    ...        ...  \n",
              "11898        17        3916  56950      10.95  \n",
              "11899        17        3916  65800      11.09  \n",
              "11900        17        3916  57500      10.96  \n",
              "11901        22        3916  49700      10.81  \n",
              "11902        17        3916  66350      11.10  \n",
              "\n",
              "[5995 rows x 17 columns]"
            ],
            "text/html": [
              "\n",
              "  <div id=\"df-62435be5-5455-49f8-b33d-c9d73d664d22\">\n",
              "    <div class=\"colab-df-container\">\n",
              "      <div>\n",
              "<style scoped>\n",
              "    .dataframe tbody tr th:only-of-type {\n",
              "        vertical-align: middle;\n",
              "    }\n",
              "\n",
              "    .dataframe tbody tr th {\n",
              "        vertical-align: top;\n",
              "    }\n",
              "\n",
              "    .dataframe thead th {\n",
              "        text-align: right;\n",
              "    }\n",
              "</style>\n",
              "<table border=\"1\" class=\"dataframe\">\n",
              "  <thead>\n",
              "    <tr style=\"text-align: right;\">\n",
              "      <th></th>\n",
              "      <th>make</th>\n",
              "      <th>model</th>\n",
              "      <th>year</th>\n",
              "      <th>engine_fuel_type</th>\n",
              "      <th>engine_hp</th>\n",
              "      <th>engine_cylinders</th>\n",
              "      <th>transmission_type</th>\n",
              "      <th>driven_wheels</th>\n",
              "      <th>number_of_doors</th>\n",
              "      <th>market_category</th>\n",
              "      <th>vehicle_size</th>\n",
              "      <th>vehicle_style</th>\n",
              "      <th>highway_mpg</th>\n",
              "      <th>city_mpg</th>\n",
              "      <th>popularity</th>\n",
              "      <th>price</th>\n",
              "      <th>log_price</th>\n",
              "    </tr>\n",
              "  </thead>\n",
              "  <tbody>\n",
              "    <tr>\n",
              "      <th>32</th>\n",
              "      <td>fiat</td>\n",
              "      <td>124_spider</td>\n",
              "      <td>2017</td>\n",
              "      <td>premium_unleaded_(recommended)</td>\n",
              "      <td>160.00</td>\n",
              "      <td>4.00</td>\n",
              "      <td>manual</td>\n",
              "      <td>rear_wheel_drive</td>\n",
              "      <td>2.00</td>\n",
              "      <td>performance</td>\n",
              "      <td>compact</td>\n",
              "      <td>convertible</td>\n",
              "      <td>35</td>\n",
              "      <td>26</td>\n",
              "      <td>819</td>\n",
              "      <td>27495</td>\n",
              "      <td>10.22</td>\n",
              "    </tr>\n",
              "    <tr>\n",
              "      <th>33</th>\n",
              "      <td>fiat</td>\n",
              "      <td>124_spider</td>\n",
              "      <td>2017</td>\n",
              "      <td>premium_unleaded_(recommended)</td>\n",
              "      <td>160.00</td>\n",
              "      <td>4.00</td>\n",
              "      <td>manual</td>\n",
              "      <td>rear_wheel_drive</td>\n",
              "      <td>2.00</td>\n",
              "      <td>performance</td>\n",
              "      <td>compact</td>\n",
              "      <td>convertible</td>\n",
              "      <td>35</td>\n",
              "      <td>26</td>\n",
              "      <td>819</td>\n",
              "      <td>24995</td>\n",
              "      <td>10.13</td>\n",
              "    </tr>\n",
              "    <tr>\n",
              "      <th>34</th>\n",
              "      <td>fiat</td>\n",
              "      <td>124_spider</td>\n",
              "      <td>2017</td>\n",
              "      <td>premium_unleaded_(recommended)</td>\n",
              "      <td>160.00</td>\n",
              "      <td>4.00</td>\n",
              "      <td>manual</td>\n",
              "      <td>rear_wheel_drive</td>\n",
              "      <td>2.00</td>\n",
              "      <td>performance</td>\n",
              "      <td>compact</td>\n",
              "      <td>convertible</td>\n",
              "      <td>35</td>\n",
              "      <td>26</td>\n",
              "      <td>819</td>\n",
              "      <td>28195</td>\n",
              "      <td>10.25</td>\n",
              "    </tr>\n",
              "    <tr>\n",
              "      <th>41</th>\n",
              "      <td>bmw</td>\n",
              "      <td>2_series</td>\n",
              "      <td>2016</td>\n",
              "      <td>premium_unleaded_(required)</td>\n",
              "      <td>240.00</td>\n",
              "      <td>4.00</td>\n",
              "      <td>automatic</td>\n",
              "      <td>rear_wheel_drive</td>\n",
              "      <td>2.00</td>\n",
              "      <td>luxury,performance</td>\n",
              "      <td>compact</td>\n",
              "      <td>coupe</td>\n",
              "      <td>35</td>\n",
              "      <td>23</td>\n",
              "      <td>3916</td>\n",
              "      <td>32850</td>\n",
              "      <td>10.40</td>\n",
              "    </tr>\n",
              "    <tr>\n",
              "      <th>42</th>\n",
              "      <td>bmw</td>\n",
              "      <td>2_series</td>\n",
              "      <td>2016</td>\n",
              "      <td>premium_unleaded_(required)</td>\n",
              "      <td>240.00</td>\n",
              "      <td>4.00</td>\n",
              "      <td>automatic</td>\n",
              "      <td>rear_wheel_drive</td>\n",
              "      <td>2.00</td>\n",
              "      <td>luxury</td>\n",
              "      <td>compact</td>\n",
              "      <td>convertible</td>\n",
              "      <td>34</td>\n",
              "      <td>23</td>\n",
              "      <td>3916</td>\n",
              "      <td>38650</td>\n",
              "      <td>10.56</td>\n",
              "    </tr>\n",
              "    <tr>\n",
              "      <th>...</th>\n",
              "      <td>...</td>\n",
              "      <td>...</td>\n",
              "      <td>...</td>\n",
              "      <td>...</td>\n",
              "      <td>...</td>\n",
              "      <td>...</td>\n",
              "      <td>...</td>\n",
              "      <td>...</td>\n",
              "      <td>...</td>\n",
              "      <td>...</td>\n",
              "      <td>...</td>\n",
              "      <td>...</td>\n",
              "      <td>...</td>\n",
              "      <td>...</td>\n",
              "      <td>...</td>\n",
              "      <td>...</td>\n",
              "      <td>...</td>\n",
              "    </tr>\n",
              "    <tr>\n",
              "      <th>11898</th>\n",
              "      <td>bmw</td>\n",
              "      <td>z4</td>\n",
              "      <td>2015</td>\n",
              "      <td>premium_unleaded_(required)</td>\n",
              "      <td>300.00</td>\n",
              "      <td>6.00</td>\n",
              "      <td>automated_manual</td>\n",
              "      <td>rear_wheel_drive</td>\n",
              "      <td>2.00</td>\n",
              "      <td>luxury,high-performance</td>\n",
              "      <td>compact</td>\n",
              "      <td>convertible</td>\n",
              "      <td>24</td>\n",
              "      <td>17</td>\n",
              "      <td>3916</td>\n",
              "      <td>56950</td>\n",
              "      <td>10.95</td>\n",
              "    </tr>\n",
              "    <tr>\n",
              "      <th>11899</th>\n",
              "      <td>bmw</td>\n",
              "      <td>z4</td>\n",
              "      <td>2015</td>\n",
              "      <td>premium_unleaded_(required)</td>\n",
              "      <td>335.00</td>\n",
              "      <td>6.00</td>\n",
              "      <td>automated_manual</td>\n",
              "      <td>rear_wheel_drive</td>\n",
              "      <td>2.00</td>\n",
              "      <td>luxury,high-performance</td>\n",
              "      <td>compact</td>\n",
              "      <td>convertible</td>\n",
              "      <td>24</td>\n",
              "      <td>17</td>\n",
              "      <td>3916</td>\n",
              "      <td>65800</td>\n",
              "      <td>11.09</td>\n",
              "    </tr>\n",
              "    <tr>\n",
              "      <th>11900</th>\n",
              "      <td>bmw</td>\n",
              "      <td>z4</td>\n",
              "      <td>2016</td>\n",
              "      <td>premium_unleaded_(required)</td>\n",
              "      <td>300.00</td>\n",
              "      <td>6.00</td>\n",
              "      <td>automated_manual</td>\n",
              "      <td>rear_wheel_drive</td>\n",
              "      <td>2.00</td>\n",
              "      <td>luxury,high-performance</td>\n",
              "      <td>compact</td>\n",
              "      <td>convertible</td>\n",
              "      <td>24</td>\n",
              "      <td>17</td>\n",
              "      <td>3916</td>\n",
              "      <td>57500</td>\n",
              "      <td>10.96</td>\n",
              "    </tr>\n",
              "    <tr>\n",
              "      <th>11901</th>\n",
              "      <td>bmw</td>\n",
              "      <td>z4</td>\n",
              "      <td>2016</td>\n",
              "      <td>premium_unleaded_(required)</td>\n",
              "      <td>240.00</td>\n",
              "      <td>4.00</td>\n",
              "      <td>manual</td>\n",
              "      <td>rear_wheel_drive</td>\n",
              "      <td>2.00</td>\n",
              "      <td>luxury,performance</td>\n",
              "      <td>compact</td>\n",
              "      <td>convertible</td>\n",
              "      <td>34</td>\n",
              "      <td>22</td>\n",
              "      <td>3916</td>\n",
              "      <td>49700</td>\n",
              "      <td>10.81</td>\n",
              "    </tr>\n",
              "    <tr>\n",
              "      <th>11902</th>\n",
              "      <td>bmw</td>\n",
              "      <td>z4</td>\n",
              "      <td>2016</td>\n",
              "      <td>premium_unleaded_(required)</td>\n",
              "      <td>335.00</td>\n",
              "      <td>6.00</td>\n",
              "      <td>automated_manual</td>\n",
              "      <td>rear_wheel_drive</td>\n",
              "      <td>2.00</td>\n",
              "      <td>luxury,high-performance</td>\n",
              "      <td>compact</td>\n",
              "      <td>convertible</td>\n",
              "      <td>24</td>\n",
              "      <td>17</td>\n",
              "      <td>3916</td>\n",
              "      <td>66350</td>\n",
              "      <td>11.10</td>\n",
              "    </tr>\n",
              "  </tbody>\n",
              "</table>\n",
              "<p>5995 rows × 17 columns</p>\n",
              "</div>\n",
              "      <button class=\"colab-df-convert\" onclick=\"convertToInteractive('df-62435be5-5455-49f8-b33d-c9d73d664d22')\"\n",
              "              title=\"Convert this dataframe to an interactive table.\"\n",
              "              style=\"display:none;\">\n",
              "        \n",
              "  <svg xmlns=\"http://www.w3.org/2000/svg\" height=\"24px\"viewBox=\"0 0 24 24\"\n",
              "       width=\"24px\">\n",
              "    <path d=\"M0 0h24v24H0V0z\" fill=\"none\"/>\n",
              "    <path d=\"M18.56 5.44l.94 2.06.94-2.06 2.06-.94-2.06-.94-.94-2.06-.94 2.06-2.06.94zm-11 1L8.5 8.5l.94-2.06 2.06-.94-2.06-.94L8.5 2.5l-.94 2.06-2.06.94zm10 10l.94 2.06.94-2.06 2.06-.94-2.06-.94-.94-2.06-.94 2.06-2.06.94z\"/><path d=\"M17.41 7.96l-1.37-1.37c-.4-.4-.92-.59-1.43-.59-.52 0-1.04.2-1.43.59L10.3 9.45l-7.72 7.72c-.78.78-.78 2.05 0 2.83L4 21.41c.39.39.9.59 1.41.59.51 0 1.02-.2 1.41-.59l7.78-7.78 2.81-2.81c.8-.78.8-2.07 0-2.86zM5.41 20L4 18.59l7.72-7.72 1.47 1.35L5.41 20z\"/>\n",
              "  </svg>\n",
              "      </button>\n",
              "      \n",
              "  <style>\n",
              "    .colab-df-container {\n",
              "      display:flex;\n",
              "      flex-wrap:wrap;\n",
              "      gap: 12px;\n",
              "    }\n",
              "\n",
              "    .colab-df-convert {\n",
              "      background-color: #E8F0FE;\n",
              "      border: none;\n",
              "      border-radius: 50%;\n",
              "      cursor: pointer;\n",
              "      display: none;\n",
              "      fill: #1967D2;\n",
              "      height: 32px;\n",
              "      padding: 0 0 0 0;\n",
              "      width: 32px;\n",
              "    }\n",
              "\n",
              "    .colab-df-convert:hover {\n",
              "      background-color: #E2EBFA;\n",
              "      box-shadow: 0px 1px 2px rgba(60, 64, 67, 0.3), 0px 1px 3px 1px rgba(60, 64, 67, 0.15);\n",
              "      fill: #174EA6;\n",
              "    }\n",
              "\n",
              "    [theme=dark] .colab-df-convert {\n",
              "      background-color: #3B4455;\n",
              "      fill: #D2E3FC;\n",
              "    }\n",
              "\n",
              "    [theme=dark] .colab-df-convert:hover {\n",
              "      background-color: #434B5C;\n",
              "      box-shadow: 0px 1px 3px 1px rgba(0, 0, 0, 0.15);\n",
              "      filter: drop-shadow(0px 1px 2px rgba(0, 0, 0, 0.3));\n",
              "      fill: #FFFFFF;\n",
              "    }\n",
              "  </style>\n",
              "\n",
              "      <script>\n",
              "        const buttonEl =\n",
              "          document.querySelector('#df-62435be5-5455-49f8-b33d-c9d73d664d22 button.colab-df-convert');\n",
              "        buttonEl.style.display =\n",
              "          google.colab.kernel.accessAllowed ? 'block' : 'none';\n",
              "\n",
              "        async function convertToInteractive(key) {\n",
              "          const element = document.querySelector('#df-62435be5-5455-49f8-b33d-c9d73d664d22');\n",
              "          const dataTable =\n",
              "            await google.colab.kernel.invokeFunction('convertToInteractive',\n",
              "                                                     [key], {});\n",
              "          if (!dataTable) return;\n",
              "\n",
              "          const docLinkHtml = 'Like what you see? Visit the ' +\n",
              "            '<a target=\"_blank\" href=https://colab.research.google.com/notebooks/data_table.ipynb>data table notebook</a>'\n",
              "            + ' to learn more about interactive tables.';\n",
              "          element.innerHTML = '';\n",
              "          dataTable['output_type'] = 'display_data';\n",
              "          await google.colab.output.renderOutput(dataTable, element);\n",
              "          const docLink = document.createElement('div');\n",
              "          docLink.innerHTML = docLinkHtml;\n",
              "          element.appendChild(docLink);\n",
              "        }\n",
              "      </script>\n",
              "    </div>\n",
              "  </div>\n",
              "  "
            ]
          },
          "metadata": {},
          "execution_count": 64
        }
      ]
    },
    {
      "cell_type": "code",
      "source": [
        "df.price.mean()"
      ],
      "metadata": {
        "colab": {
          "base_uri": "https://localhost:8080/"
        },
        "id": "3pRuowYB7OCz",
        "outputId": "9d735571-eb28-46a7-a629-52dbf9ee3703"
      },
      "execution_count": 65,
      "outputs": [
        {
          "output_type": "execute_result",
          "data": {
            "text/plain": [
              "40594.737032063116"
            ]
          },
          "metadata": {},
          "execution_count": 65
        }
      ]
    },
    {
      "cell_type": "code",
      "source": [
        "df[df['year'] >= 2015]['price'].mean()"
      ],
      "metadata": {
        "colab": {
          "base_uri": "https://localhost:8080/"
        },
        "id": "ohYz33Lu7RpR",
        "outputId": "4c334dc1-d10a-435b-f5e6-a6d7f9a193b0"
      },
      "execution_count": 66,
      "outputs": [
        {
          "output_type": "execute_result",
          "data": {
            "text/plain": [
              "45667.156463719766"
            ]
          },
          "metadata": {},
          "execution_count": 66
        }
      ]
    },
    {
      "cell_type": "code",
      "source": [
        "df[df['year'] < 2015]['price'].mean()"
      ],
      "metadata": {
        "colab": {
          "base_uri": "https://localhost:8080/"
        },
        "id": "7tN3eeoi7Y4p",
        "outputId": "074c44a2-2349-415d-d55a-2beb0abcf615"
      },
      "execution_count": 67,
      "outputs": [
        {
          "output_type": "execute_result",
          "data": {
            "text/plain": [
              "35457.18770062511"
            ]
          },
          "metadata": {},
          "execution_count": 67
        }
      ]
    },
    {
      "cell_type": "markdown",
      "metadata": {
        "id": "03TwrE4tEr25"
      },
      "source": [
        "# Validation framework"
      ]
    },
    {
      "cell_type": "markdown",
      "source": [
        "![](https://vitalflux.com/wp-content/uploads/2020/12/Hold-out-method-for-model-selection.png)\n",
        "\n",
        "image credit : https://vitalflux.com/hold-out-method-for-training-machine-learning-model/"
      ],
      "metadata": {
        "id": "RLZTIMnusuX4"
      }
    },
    {
      "cell_type": "code",
      "execution_count": 68,
      "metadata": {
        "id": "L_NvqbeJEr26",
        "colab": {
          "base_uri": "https://localhost:8080/"
        },
        "outputId": "d3e22f71-d7bb-4289-d99f-6d06924b3295"
      },
      "outputs": [
        {
          "output_type": "stream",
          "name": "stdout",
          "text": [
            "No. of rows for training :  7150\n",
            "No. of rows for validation :  2382\n",
            "No. of rows for testing :  2382\n"
          ]
        }
      ],
      "source": [
        "np.random.seed(2)     # Fixes the random seed to make sure that the results are reproducible\n",
        "\n",
        "n = len(df) \n",
        "\n",
        "n_val = int(0.2 * n)\n",
        "n_test = int(0.2 * n)\n",
        "n_train = n - (n_val + n_test)\n",
        "\n",
        "print('No. of rows for training : ', n_train)\n",
        "print('No. of rows for validation : ', n_val)\n",
        "print('No. of rows for testing : ', n_test)"
      ]
    },
    {
      "cell_type": "code",
      "source": [
        "idx = np.arange(n)\n",
        "print(idx)\n",
        "np.random.shuffle(idx)\n",
        "print(idx)"
      ],
      "metadata": {
        "colab": {
          "base_uri": "https://localhost:8080/"
        },
        "id": "u8FgrTn7u1-_",
        "outputId": "b3fd0669-9eab-4fb3-8a53-e4fce456f035"
      },
      "execution_count": 69,
      "outputs": [
        {
          "output_type": "stream",
          "name": "stdout",
          "text": [
            "[    0     1     2 ... 11911 11912 11913]\n",
            "[2735 6720 5878 ... 6637 2575 7336]\n"
          ]
        }
      ]
    },
    {
      "cell_type": "code",
      "source": [
        "df_shuffled = df.iloc[idx]\n",
        "print(df.index)\n",
        "print(df_shuffled.index)"
      ],
      "metadata": {
        "colab": {
          "base_uri": "https://localhost:8080/"
        },
        "id": "qSOHBBH9uKZ3",
        "outputId": "56894133-5216-465b-a0e8-a6b21bf2bb7c"
      },
      "execution_count": 70,
      "outputs": [
        {
          "output_type": "stream",
          "name": "stdout",
          "text": [
            "RangeIndex(start=0, stop=11914, step=1)\n",
            "Int64Index([ 2735,  6720,  5878, 11190,  4554,  8001,  2882,   649,   616,\n",
            "             4459,\n",
            "            ...\n",
            "             6751,   433,  4770, 11527,  1099,  2514, 11798,  6637,  2575,\n",
            "             7336],\n",
            "           dtype='int64', length=11914)\n"
          ]
        }
      ]
    },
    {
      "cell_type": "code",
      "source": [
        "df_shuffled"
      ],
      "metadata": {
        "colab": {
          "base_uri": "https://localhost:8080/",
          "height": 0
        },
        "id": "3NzudVmwvytA",
        "outputId": "4d9d720f-6a9e-44f0-e080-9bc29e0c81d9"
      },
      "execution_count": 71,
      "outputs": [
        {
          "output_type": "execute_result",
          "data": {
            "text/plain": [
              "             make         model  year          engine_fuel_type  engine_hp  \\\n",
              "2735    chevrolet        cobalt  2008          regular_unleaded     148.00   \n",
              "6720       toyota        matrix  2012          regular_unleaded     132.00   \n",
              "5878       subaru       impreza  2016          regular_unleaded     148.00   \n",
              "11190  volkswagen       vanagon  1991          regular_unleaded      90.00   \n",
              "4554         ford         f-150  2017  flex-fuel_(unleaded/e85)     385.00   \n",
              "...           ...           ...   ...                       ...        ...   \n",
              "2514    chevrolet     chevy_van  1998          regular_unleaded     200.00   \n",
              "11798      subaru  xv_crosstrek  2014          regular_unleaded     160.00   \n",
              "6637        dodge        magnum  2006          regular_unleaded     250.00   \n",
              "2575        honda         civic  2016          regular_unleaded     174.00   \n",
              "7336       subaru       outback  2015          regular_unleaded     256.00   \n",
              "\n",
              "       engine_cylinders transmission_type      driven_wheels  number_of_doors  \\\n",
              "2735               4.00            manual  front_wheel_drive             2.00   \n",
              "6720               4.00         automatic  front_wheel_drive             4.00   \n",
              "5878               4.00         automatic    all_wheel_drive             4.00   \n",
              "11190              4.00            manual   rear_wheel_drive             3.00   \n",
              "4554               8.00         automatic   four_wheel_drive             4.00   \n",
              "...                 ...               ...                ...              ...   \n",
              "2514               6.00         automatic   rear_wheel_drive             3.00   \n",
              "11798              4.00         automatic    all_wheel_drive             4.00   \n",
              "6637               6.00         automatic    all_wheel_drive             4.00   \n",
              "2575               4.00         automatic  front_wheel_drive             4.00   \n",
              "7336               6.00         automatic    all_wheel_drive             4.00   \n",
              "\n",
              "        market_category vehicle_size      vehicle_style  highway_mpg  \\\n",
              "2735                NaN      compact              coupe           33   \n",
              "6720          hatchback      compact      4dr_hatchback           32   \n",
              "5878          hatchback      compact      4dr_hatchback           37   \n",
              "11190               NaN        large  passenger_minivan           18   \n",
              "4554          flex_fuel        large    crew_cab_pickup           21   \n",
              "...                 ...          ...                ...          ...   \n",
              "2514                NaN      midsize          cargo_van           18   \n",
              "11798  crossover,hybrid      compact            4dr_suv           33   \n",
              "6637                NaN        large              wagon           22   \n",
              "2575                NaN      midsize              sedan           42   \n",
              "7336          crossover      midsize            4dr_suv           27   \n",
              "\n",
              "       city_mpg  popularity  price  log_price  \n",
              "2735         24        1385  14410       9.58  \n",
              "6720         25        2031  19685       9.89  \n",
              "5878         28         640  19795       9.89  \n",
              "11190        16         873   2000       7.60  \n",
              "4554         15        5657  56260      10.94  \n",
              "...         ...         ...    ...        ...  \n",
              "2514         13        1385   2052       7.63  \n",
              "11798        29         640  25995      10.17  \n",
              "6637         15        1851  29100      10.28  \n",
              "2575         31        2202  22200      10.01  \n",
              "7336         20         640  32995      10.40  \n",
              "\n",
              "[11914 rows x 17 columns]"
            ],
            "text/html": [
              "\n",
              "  <div id=\"df-69a16cfd-f53f-450d-9f8b-567bc3b0b80a\">\n",
              "    <div class=\"colab-df-container\">\n",
              "      <div>\n",
              "<style scoped>\n",
              "    .dataframe tbody tr th:only-of-type {\n",
              "        vertical-align: middle;\n",
              "    }\n",
              "\n",
              "    .dataframe tbody tr th {\n",
              "        vertical-align: top;\n",
              "    }\n",
              "\n",
              "    .dataframe thead th {\n",
              "        text-align: right;\n",
              "    }\n",
              "</style>\n",
              "<table border=\"1\" class=\"dataframe\">\n",
              "  <thead>\n",
              "    <tr style=\"text-align: right;\">\n",
              "      <th></th>\n",
              "      <th>make</th>\n",
              "      <th>model</th>\n",
              "      <th>year</th>\n",
              "      <th>engine_fuel_type</th>\n",
              "      <th>engine_hp</th>\n",
              "      <th>engine_cylinders</th>\n",
              "      <th>transmission_type</th>\n",
              "      <th>driven_wheels</th>\n",
              "      <th>number_of_doors</th>\n",
              "      <th>market_category</th>\n",
              "      <th>vehicle_size</th>\n",
              "      <th>vehicle_style</th>\n",
              "      <th>highway_mpg</th>\n",
              "      <th>city_mpg</th>\n",
              "      <th>popularity</th>\n",
              "      <th>price</th>\n",
              "      <th>log_price</th>\n",
              "    </tr>\n",
              "  </thead>\n",
              "  <tbody>\n",
              "    <tr>\n",
              "      <th>2735</th>\n",
              "      <td>chevrolet</td>\n",
              "      <td>cobalt</td>\n",
              "      <td>2008</td>\n",
              "      <td>regular_unleaded</td>\n",
              "      <td>148.00</td>\n",
              "      <td>4.00</td>\n",
              "      <td>manual</td>\n",
              "      <td>front_wheel_drive</td>\n",
              "      <td>2.00</td>\n",
              "      <td>NaN</td>\n",
              "      <td>compact</td>\n",
              "      <td>coupe</td>\n",
              "      <td>33</td>\n",
              "      <td>24</td>\n",
              "      <td>1385</td>\n",
              "      <td>14410</td>\n",
              "      <td>9.58</td>\n",
              "    </tr>\n",
              "    <tr>\n",
              "      <th>6720</th>\n",
              "      <td>toyota</td>\n",
              "      <td>matrix</td>\n",
              "      <td>2012</td>\n",
              "      <td>regular_unleaded</td>\n",
              "      <td>132.00</td>\n",
              "      <td>4.00</td>\n",
              "      <td>automatic</td>\n",
              "      <td>front_wheel_drive</td>\n",
              "      <td>4.00</td>\n",
              "      <td>hatchback</td>\n",
              "      <td>compact</td>\n",
              "      <td>4dr_hatchback</td>\n",
              "      <td>32</td>\n",
              "      <td>25</td>\n",
              "      <td>2031</td>\n",
              "      <td>19685</td>\n",
              "      <td>9.89</td>\n",
              "    </tr>\n",
              "    <tr>\n",
              "      <th>5878</th>\n",
              "      <td>subaru</td>\n",
              "      <td>impreza</td>\n",
              "      <td>2016</td>\n",
              "      <td>regular_unleaded</td>\n",
              "      <td>148.00</td>\n",
              "      <td>4.00</td>\n",
              "      <td>automatic</td>\n",
              "      <td>all_wheel_drive</td>\n",
              "      <td>4.00</td>\n",
              "      <td>hatchback</td>\n",
              "      <td>compact</td>\n",
              "      <td>4dr_hatchback</td>\n",
              "      <td>37</td>\n",
              "      <td>28</td>\n",
              "      <td>640</td>\n",
              "      <td>19795</td>\n",
              "      <td>9.89</td>\n",
              "    </tr>\n",
              "    <tr>\n",
              "      <th>11190</th>\n",
              "      <td>volkswagen</td>\n",
              "      <td>vanagon</td>\n",
              "      <td>1991</td>\n",
              "      <td>regular_unleaded</td>\n",
              "      <td>90.00</td>\n",
              "      <td>4.00</td>\n",
              "      <td>manual</td>\n",
              "      <td>rear_wheel_drive</td>\n",
              "      <td>3.00</td>\n",
              "      <td>NaN</td>\n",
              "      <td>large</td>\n",
              "      <td>passenger_minivan</td>\n",
              "      <td>18</td>\n",
              "      <td>16</td>\n",
              "      <td>873</td>\n",
              "      <td>2000</td>\n",
              "      <td>7.60</td>\n",
              "    </tr>\n",
              "    <tr>\n",
              "      <th>4554</th>\n",
              "      <td>ford</td>\n",
              "      <td>f-150</td>\n",
              "      <td>2017</td>\n",
              "      <td>flex-fuel_(unleaded/e85)</td>\n",
              "      <td>385.00</td>\n",
              "      <td>8.00</td>\n",
              "      <td>automatic</td>\n",
              "      <td>four_wheel_drive</td>\n",
              "      <td>4.00</td>\n",
              "      <td>flex_fuel</td>\n",
              "      <td>large</td>\n",
              "      <td>crew_cab_pickup</td>\n",
              "      <td>21</td>\n",
              "      <td>15</td>\n",
              "      <td>5657</td>\n",
              "      <td>56260</td>\n",
              "      <td>10.94</td>\n",
              "    </tr>\n",
              "    <tr>\n",
              "      <th>...</th>\n",
              "      <td>...</td>\n",
              "      <td>...</td>\n",
              "      <td>...</td>\n",
              "      <td>...</td>\n",
              "      <td>...</td>\n",
              "      <td>...</td>\n",
              "      <td>...</td>\n",
              "      <td>...</td>\n",
              "      <td>...</td>\n",
              "      <td>...</td>\n",
              "      <td>...</td>\n",
              "      <td>...</td>\n",
              "      <td>...</td>\n",
              "      <td>...</td>\n",
              "      <td>...</td>\n",
              "      <td>...</td>\n",
              "      <td>...</td>\n",
              "    </tr>\n",
              "    <tr>\n",
              "      <th>2514</th>\n",
              "      <td>chevrolet</td>\n",
              "      <td>chevy_van</td>\n",
              "      <td>1998</td>\n",
              "      <td>regular_unleaded</td>\n",
              "      <td>200.00</td>\n",
              "      <td>6.00</td>\n",
              "      <td>automatic</td>\n",
              "      <td>rear_wheel_drive</td>\n",
              "      <td>3.00</td>\n",
              "      <td>NaN</td>\n",
              "      <td>midsize</td>\n",
              "      <td>cargo_van</td>\n",
              "      <td>18</td>\n",
              "      <td>13</td>\n",
              "      <td>1385</td>\n",
              "      <td>2052</td>\n",
              "      <td>7.63</td>\n",
              "    </tr>\n",
              "    <tr>\n",
              "      <th>11798</th>\n",
              "      <td>subaru</td>\n",
              "      <td>xv_crosstrek</td>\n",
              "      <td>2014</td>\n",
              "      <td>regular_unleaded</td>\n",
              "      <td>160.00</td>\n",
              "      <td>4.00</td>\n",
              "      <td>automatic</td>\n",
              "      <td>all_wheel_drive</td>\n",
              "      <td>4.00</td>\n",
              "      <td>crossover,hybrid</td>\n",
              "      <td>compact</td>\n",
              "      <td>4dr_suv</td>\n",
              "      <td>33</td>\n",
              "      <td>29</td>\n",
              "      <td>640</td>\n",
              "      <td>25995</td>\n",
              "      <td>10.17</td>\n",
              "    </tr>\n",
              "    <tr>\n",
              "      <th>6637</th>\n",
              "      <td>dodge</td>\n",
              "      <td>magnum</td>\n",
              "      <td>2006</td>\n",
              "      <td>regular_unleaded</td>\n",
              "      <td>250.00</td>\n",
              "      <td>6.00</td>\n",
              "      <td>automatic</td>\n",
              "      <td>all_wheel_drive</td>\n",
              "      <td>4.00</td>\n",
              "      <td>NaN</td>\n",
              "      <td>large</td>\n",
              "      <td>wagon</td>\n",
              "      <td>22</td>\n",
              "      <td>15</td>\n",
              "      <td>1851</td>\n",
              "      <td>29100</td>\n",
              "      <td>10.28</td>\n",
              "    </tr>\n",
              "    <tr>\n",
              "      <th>2575</th>\n",
              "      <td>honda</td>\n",
              "      <td>civic</td>\n",
              "      <td>2016</td>\n",
              "      <td>regular_unleaded</td>\n",
              "      <td>174.00</td>\n",
              "      <td>4.00</td>\n",
              "      <td>automatic</td>\n",
              "      <td>front_wheel_drive</td>\n",
              "      <td>4.00</td>\n",
              "      <td>NaN</td>\n",
              "      <td>midsize</td>\n",
              "      <td>sedan</td>\n",
              "      <td>42</td>\n",
              "      <td>31</td>\n",
              "      <td>2202</td>\n",
              "      <td>22200</td>\n",
              "      <td>10.01</td>\n",
              "    </tr>\n",
              "    <tr>\n",
              "      <th>7336</th>\n",
              "      <td>subaru</td>\n",
              "      <td>outback</td>\n",
              "      <td>2015</td>\n",
              "      <td>regular_unleaded</td>\n",
              "      <td>256.00</td>\n",
              "      <td>6.00</td>\n",
              "      <td>automatic</td>\n",
              "      <td>all_wheel_drive</td>\n",
              "      <td>4.00</td>\n",
              "      <td>crossover</td>\n",
              "      <td>midsize</td>\n",
              "      <td>4dr_suv</td>\n",
              "      <td>27</td>\n",
              "      <td>20</td>\n",
              "      <td>640</td>\n",
              "      <td>32995</td>\n",
              "      <td>10.40</td>\n",
              "    </tr>\n",
              "  </tbody>\n",
              "</table>\n",
              "<p>11914 rows × 17 columns</p>\n",
              "</div>\n",
              "      <button class=\"colab-df-convert\" onclick=\"convertToInteractive('df-69a16cfd-f53f-450d-9f8b-567bc3b0b80a')\"\n",
              "              title=\"Convert this dataframe to an interactive table.\"\n",
              "              style=\"display:none;\">\n",
              "        \n",
              "  <svg xmlns=\"http://www.w3.org/2000/svg\" height=\"24px\"viewBox=\"0 0 24 24\"\n",
              "       width=\"24px\">\n",
              "    <path d=\"M0 0h24v24H0V0z\" fill=\"none\"/>\n",
              "    <path d=\"M18.56 5.44l.94 2.06.94-2.06 2.06-.94-2.06-.94-.94-2.06-.94 2.06-2.06.94zm-11 1L8.5 8.5l.94-2.06 2.06-.94-2.06-.94L8.5 2.5l-.94 2.06-2.06.94zm10 10l.94 2.06.94-2.06 2.06-.94-2.06-.94-.94-2.06-.94 2.06-2.06.94z\"/><path d=\"M17.41 7.96l-1.37-1.37c-.4-.4-.92-.59-1.43-.59-.52 0-1.04.2-1.43.59L10.3 9.45l-7.72 7.72c-.78.78-.78 2.05 0 2.83L4 21.41c.39.39.9.59 1.41.59.51 0 1.02-.2 1.41-.59l7.78-7.78 2.81-2.81c.8-.78.8-2.07 0-2.86zM5.41 20L4 18.59l7.72-7.72 1.47 1.35L5.41 20z\"/>\n",
              "  </svg>\n",
              "      </button>\n",
              "      \n",
              "  <style>\n",
              "    .colab-df-container {\n",
              "      display:flex;\n",
              "      flex-wrap:wrap;\n",
              "      gap: 12px;\n",
              "    }\n",
              "\n",
              "    .colab-df-convert {\n",
              "      background-color: #E8F0FE;\n",
              "      border: none;\n",
              "      border-radius: 50%;\n",
              "      cursor: pointer;\n",
              "      display: none;\n",
              "      fill: #1967D2;\n",
              "      height: 32px;\n",
              "      padding: 0 0 0 0;\n",
              "      width: 32px;\n",
              "    }\n",
              "\n",
              "    .colab-df-convert:hover {\n",
              "      background-color: #E2EBFA;\n",
              "      box-shadow: 0px 1px 2px rgba(60, 64, 67, 0.3), 0px 1px 3px 1px rgba(60, 64, 67, 0.15);\n",
              "      fill: #174EA6;\n",
              "    }\n",
              "\n",
              "    [theme=dark] .colab-df-convert {\n",
              "      background-color: #3B4455;\n",
              "      fill: #D2E3FC;\n",
              "    }\n",
              "\n",
              "    [theme=dark] .colab-df-convert:hover {\n",
              "      background-color: #434B5C;\n",
              "      box-shadow: 0px 1px 3px 1px rgba(0, 0, 0, 0.15);\n",
              "      filter: drop-shadow(0px 1px 2px rgba(0, 0, 0, 0.3));\n",
              "      fill: #FFFFFF;\n",
              "    }\n",
              "  </style>\n",
              "\n",
              "      <script>\n",
              "        const buttonEl =\n",
              "          document.querySelector('#df-69a16cfd-f53f-450d-9f8b-567bc3b0b80a button.colab-df-convert');\n",
              "        buttonEl.style.display =\n",
              "          google.colab.kernel.accessAllowed ? 'block' : 'none';\n",
              "\n",
              "        async function convertToInteractive(key) {\n",
              "          const element = document.querySelector('#df-69a16cfd-f53f-450d-9f8b-567bc3b0b80a');\n",
              "          const dataTable =\n",
              "            await google.colab.kernel.invokeFunction('convertToInteractive',\n",
              "                                                     [key], {});\n",
              "          if (!dataTable) return;\n",
              "\n",
              "          const docLinkHtml = 'Like what you see? Visit the ' +\n",
              "            '<a target=\"_blank\" href=https://colab.research.google.com/notebooks/data_table.ipynb>data table notebook</a>'\n",
              "            + ' to learn more about interactive tables.';\n",
              "          element.innerHTML = '';\n",
              "          dataTable['output_type'] = 'display_data';\n",
              "          await google.colab.output.renderOutput(dataTable, element);\n",
              "          const docLink = document.createElement('div');\n",
              "          docLink.innerHTML = docLinkHtml;\n",
              "          element.appendChild(docLink);\n",
              "        }\n",
              "      </script>\n",
              "    </div>\n",
              "  </div>\n",
              "  "
            ]
          },
          "metadata": {},
          "execution_count": 71
        }
      ]
    },
    {
      "cell_type": "code",
      "source": [
        "df_train = df_shuffled.iloc[:n_train].copy()\n",
        "df_val = df_shuffled.iloc[n_train:n_train+n_val].copy()\n",
        "df_test = df_shuffled.iloc[n_train+n_val:].copy()"
      ],
      "metadata": {
        "id": "39IioBPMu9im"
      },
      "execution_count": 72,
      "outputs": []
    },
    {
      "cell_type": "code",
      "execution_count": 73,
      "metadata": {
        "id": "SMDaixZNEr26"
      },
      "outputs": [],
      "source": [
        "y_train = df_train.log_price.values\n",
        "y_val = df_val.log_price.values\n",
        "y_test = df_test.log_price.values"
      ]
    },
    {
      "cell_type": "markdown",
      "metadata": {
        "id": "YzJmvVcOEr27"
      },
      "source": [
        "# Baseline solution"
      ]
    },
    {
      "cell_type": "code",
      "execution_count": 74,
      "metadata": {
        "id": "p6OlyVgvEr27"
      },
      "outputs": [],
      "source": [
        "base = ['engine_hp', 'engine_cylinders', 'highway_mpg', 'city_mpg', 'popularity']"
      ]
    },
    {
      "cell_type": "code",
      "source": [
        "df[base]"
      ],
      "metadata": {
        "colab": {
          "base_uri": "https://localhost:8080/",
          "height": 0
        },
        "id": "iwusEQI_3ska",
        "outputId": "1493f8b0-d912-4080-fe65-9c8825733206"
      },
      "execution_count": 75,
      "outputs": [
        {
          "output_type": "execute_result",
          "data": {
            "text/plain": [
              "       engine_hp  engine_cylinders  highway_mpg  city_mpg  popularity\n",
              "0         335.00              6.00           26        19        3916\n",
              "1         300.00              6.00           28        19        3916\n",
              "2         300.00              6.00           28        20        3916\n",
              "3         230.00              6.00           28        18        3916\n",
              "4         230.00              6.00           28        18        3916\n",
              "...          ...               ...          ...       ...         ...\n",
              "11909     300.00              6.00           23        16         204\n",
              "11910     300.00              6.00           23        16         204\n",
              "11911     300.00              6.00           23        16         204\n",
              "11912     300.00              6.00           23        16         204\n",
              "11913     221.00              6.00           26        17          61\n",
              "\n",
              "[11914 rows x 5 columns]"
            ],
            "text/html": [
              "\n",
              "  <div id=\"df-229d48c5-2cd5-494d-af7b-f4aadb671386\">\n",
              "    <div class=\"colab-df-container\">\n",
              "      <div>\n",
              "<style scoped>\n",
              "    .dataframe tbody tr th:only-of-type {\n",
              "        vertical-align: middle;\n",
              "    }\n",
              "\n",
              "    .dataframe tbody tr th {\n",
              "        vertical-align: top;\n",
              "    }\n",
              "\n",
              "    .dataframe thead th {\n",
              "        text-align: right;\n",
              "    }\n",
              "</style>\n",
              "<table border=\"1\" class=\"dataframe\">\n",
              "  <thead>\n",
              "    <tr style=\"text-align: right;\">\n",
              "      <th></th>\n",
              "      <th>engine_hp</th>\n",
              "      <th>engine_cylinders</th>\n",
              "      <th>highway_mpg</th>\n",
              "      <th>city_mpg</th>\n",
              "      <th>popularity</th>\n",
              "    </tr>\n",
              "  </thead>\n",
              "  <tbody>\n",
              "    <tr>\n",
              "      <th>0</th>\n",
              "      <td>335.00</td>\n",
              "      <td>6.00</td>\n",
              "      <td>26</td>\n",
              "      <td>19</td>\n",
              "      <td>3916</td>\n",
              "    </tr>\n",
              "    <tr>\n",
              "      <th>1</th>\n",
              "      <td>300.00</td>\n",
              "      <td>6.00</td>\n",
              "      <td>28</td>\n",
              "      <td>19</td>\n",
              "      <td>3916</td>\n",
              "    </tr>\n",
              "    <tr>\n",
              "      <th>2</th>\n",
              "      <td>300.00</td>\n",
              "      <td>6.00</td>\n",
              "      <td>28</td>\n",
              "      <td>20</td>\n",
              "      <td>3916</td>\n",
              "    </tr>\n",
              "    <tr>\n",
              "      <th>3</th>\n",
              "      <td>230.00</td>\n",
              "      <td>6.00</td>\n",
              "      <td>28</td>\n",
              "      <td>18</td>\n",
              "      <td>3916</td>\n",
              "    </tr>\n",
              "    <tr>\n",
              "      <th>4</th>\n",
              "      <td>230.00</td>\n",
              "      <td>6.00</td>\n",
              "      <td>28</td>\n",
              "      <td>18</td>\n",
              "      <td>3916</td>\n",
              "    </tr>\n",
              "    <tr>\n",
              "      <th>...</th>\n",
              "      <td>...</td>\n",
              "      <td>...</td>\n",
              "      <td>...</td>\n",
              "      <td>...</td>\n",
              "      <td>...</td>\n",
              "    </tr>\n",
              "    <tr>\n",
              "      <th>11909</th>\n",
              "      <td>300.00</td>\n",
              "      <td>6.00</td>\n",
              "      <td>23</td>\n",
              "      <td>16</td>\n",
              "      <td>204</td>\n",
              "    </tr>\n",
              "    <tr>\n",
              "      <th>11910</th>\n",
              "      <td>300.00</td>\n",
              "      <td>6.00</td>\n",
              "      <td>23</td>\n",
              "      <td>16</td>\n",
              "      <td>204</td>\n",
              "    </tr>\n",
              "    <tr>\n",
              "      <th>11911</th>\n",
              "      <td>300.00</td>\n",
              "      <td>6.00</td>\n",
              "      <td>23</td>\n",
              "      <td>16</td>\n",
              "      <td>204</td>\n",
              "    </tr>\n",
              "    <tr>\n",
              "      <th>11912</th>\n",
              "      <td>300.00</td>\n",
              "      <td>6.00</td>\n",
              "      <td>23</td>\n",
              "      <td>16</td>\n",
              "      <td>204</td>\n",
              "    </tr>\n",
              "    <tr>\n",
              "      <th>11913</th>\n",
              "      <td>221.00</td>\n",
              "      <td>6.00</td>\n",
              "      <td>26</td>\n",
              "      <td>17</td>\n",
              "      <td>61</td>\n",
              "    </tr>\n",
              "  </tbody>\n",
              "</table>\n",
              "<p>11914 rows × 5 columns</p>\n",
              "</div>\n",
              "      <button class=\"colab-df-convert\" onclick=\"convertToInteractive('df-229d48c5-2cd5-494d-af7b-f4aadb671386')\"\n",
              "              title=\"Convert this dataframe to an interactive table.\"\n",
              "              style=\"display:none;\">\n",
              "        \n",
              "  <svg xmlns=\"http://www.w3.org/2000/svg\" height=\"24px\"viewBox=\"0 0 24 24\"\n",
              "       width=\"24px\">\n",
              "    <path d=\"M0 0h24v24H0V0z\" fill=\"none\"/>\n",
              "    <path d=\"M18.56 5.44l.94 2.06.94-2.06 2.06-.94-2.06-.94-.94-2.06-.94 2.06-2.06.94zm-11 1L8.5 8.5l.94-2.06 2.06-.94-2.06-.94L8.5 2.5l-.94 2.06-2.06.94zm10 10l.94 2.06.94-2.06 2.06-.94-2.06-.94-.94-2.06-.94 2.06-2.06.94z\"/><path d=\"M17.41 7.96l-1.37-1.37c-.4-.4-.92-.59-1.43-.59-.52 0-1.04.2-1.43.59L10.3 9.45l-7.72 7.72c-.78.78-.78 2.05 0 2.83L4 21.41c.39.39.9.59 1.41.59.51 0 1.02-.2 1.41-.59l7.78-7.78 2.81-2.81c.8-.78.8-2.07 0-2.86zM5.41 20L4 18.59l7.72-7.72 1.47 1.35L5.41 20z\"/>\n",
              "  </svg>\n",
              "      </button>\n",
              "      \n",
              "  <style>\n",
              "    .colab-df-container {\n",
              "      display:flex;\n",
              "      flex-wrap:wrap;\n",
              "      gap: 12px;\n",
              "    }\n",
              "\n",
              "    .colab-df-convert {\n",
              "      background-color: #E8F0FE;\n",
              "      border: none;\n",
              "      border-radius: 50%;\n",
              "      cursor: pointer;\n",
              "      display: none;\n",
              "      fill: #1967D2;\n",
              "      height: 32px;\n",
              "      padding: 0 0 0 0;\n",
              "      width: 32px;\n",
              "    }\n",
              "\n",
              "    .colab-df-convert:hover {\n",
              "      background-color: #E2EBFA;\n",
              "      box-shadow: 0px 1px 2px rgba(60, 64, 67, 0.3), 0px 1px 3px 1px rgba(60, 64, 67, 0.15);\n",
              "      fill: #174EA6;\n",
              "    }\n",
              "\n",
              "    [theme=dark] .colab-df-convert {\n",
              "      background-color: #3B4455;\n",
              "      fill: #D2E3FC;\n",
              "    }\n",
              "\n",
              "    [theme=dark] .colab-df-convert:hover {\n",
              "      background-color: #434B5C;\n",
              "      box-shadow: 0px 1px 3px 1px rgba(0, 0, 0, 0.15);\n",
              "      filter: drop-shadow(0px 1px 2px rgba(0, 0, 0, 0.3));\n",
              "      fill: #FFFFFF;\n",
              "    }\n",
              "  </style>\n",
              "\n",
              "      <script>\n",
              "        const buttonEl =\n",
              "          document.querySelector('#df-229d48c5-2cd5-494d-af7b-f4aadb671386 button.colab-df-convert');\n",
              "        buttonEl.style.display =\n",
              "          google.colab.kernel.accessAllowed ? 'block' : 'none';\n",
              "\n",
              "        async function convertToInteractive(key) {\n",
              "          const element = document.querySelector('#df-229d48c5-2cd5-494d-af7b-f4aadb671386');\n",
              "          const dataTable =\n",
              "            await google.colab.kernel.invokeFunction('convertToInteractive',\n",
              "                                                     [key], {});\n",
              "          if (!dataTable) return;\n",
              "\n",
              "          const docLinkHtml = 'Like what you see? Visit the ' +\n",
              "            '<a target=\"_blank\" href=https://colab.research.google.com/notebooks/data_table.ipynb>data table notebook</a>'\n",
              "            + ' to learn more about interactive tables.';\n",
              "          element.innerHTML = '';\n",
              "          dataTable['output_type'] = 'display_data';\n",
              "          await google.colab.output.renderOutput(dataTable, element);\n",
              "          const docLink = document.createElement('div');\n",
              "          docLink.innerHTML = docLinkHtml;\n",
              "          element.appendChild(docLink);\n",
              "        }\n",
              "      </script>\n",
              "    </div>\n",
              "  </div>\n",
              "  "
            ]
          },
          "metadata": {},
          "execution_count": 75
        }
      ]
    },
    {
      "cell_type": "markdown",
      "source": [
        "> Simple, No Categorical"
      ],
      "metadata": {
        "id": "UkfOPW4p33FK"
      }
    },
    {
      "cell_type": "code",
      "source": [
        "df[base].isnull().sum()"
      ],
      "metadata": {
        "colab": {
          "base_uri": "https://localhost:8080/"
        },
        "id": "TA4H1F1E37a6",
        "outputId": "b5138860-583c-463f-c930-2e56522d7553"
      },
      "execution_count": 76,
      "outputs": [
        {
          "output_type": "execute_result",
          "data": {
            "text/plain": [
              "engine_hp           69\n",
              "engine_cylinders    30\n",
              "highway_mpg          0\n",
              "city_mpg             0\n",
              "popularity           0\n",
              "dtype: int64"
            ]
          },
          "metadata": {},
          "execution_count": 76
        }
      ]
    },
    {
      "cell_type": "markdown",
      "source": [
        ">There are still missing values , We will fill them with the `mean` value\n",
        "\n",
        "For More info : [5 Ways To Handle Missing Values In Machine Learning Datasets](https://analyticsindiamag.com/5-ways-handle-missing-values-machine-learning-datasets/)"
      ],
      "metadata": {
        "id": "v-q0L2lq3_Kq"
      }
    },
    {
      "cell_type": "markdown",
      "source": [
        "## Handling Missing Values"
      ],
      "metadata": {
        "id": "n1Rhgwu3wE0B"
      }
    },
    {
      "cell_type": "code",
      "execution_count": 77,
      "metadata": {
        "id": "mtt-PbLnEr27"
      },
      "outputs": [],
      "source": [
        "def prepare_X(df):\n",
        "    df_num = df[base]\n",
        "    df_num = df_num.fillna(df_num.mean())\n",
        "    X = df_num.values\n",
        "    return X"
      ]
    },
    {
      "cell_type": "markdown",
      "metadata": {
        "id": "YdM8MF2UEr26"
      },
      "source": [
        "# Linear Regression"
      ]
    },
    {
      "cell_type": "markdown",
      "source": [
        "![](https://miro.medium.com/max/1400/1*GSAcN9G7stUJQbuOhu0HEg.png)"
      ],
      "metadata": {
        "id": "5rwsnDJIxXQh"
      }
    },
    {
      "cell_type": "markdown",
      "source": [
        "![image.png](https://learning.oreilly.com/api/v2/epubs/urn:orm:book:9781617296819/files/OEBPS/Images/02_10-Equation_2-9.png)\n",
        "\n",
        "![image.png](https://learning.oreilly.com/api/v2/epubs/urn:orm:book:9781617296819/files/OEBPS/Images/02_10-Equation_2-10.png)"
      ],
      "metadata": {
        "id": "7ZpU0FTvcCRL"
      }
    },
    {
      "cell_type": "code",
      "source": [
        "def linear_regression(xi):\n",
        "    n =len(xi)                # Number of features used\n",
        "    \n",
        "    pred = w0                 # Initial / Base prediction\n",
        "    \n",
        "    for j in range(n):\n",
        "        pred += w[j]*xi[j]     # Formula = w0 +sigma[0:n-1]{w[j]*xi[j]}\n",
        "    \n",
        "    return pred\n"
      ],
      "metadata": {
        "id": "KjLW7kBsxDMb"
      },
      "execution_count": 78,
      "outputs": []
    },
    {
      "cell_type": "markdown",
      "source": [
        "> **Using Normal Equation**\n",
        "\n",
        "![](https://miro.medium.com/max/560/1*7ZiWm6xAF4oWiYfWklUMEw.jpeg)\n",
        "\n",
        "\n",
        "[Step by step Derivation](https://eli.thegreenplace.net/2014/derivation-of-the-normal-equation-for-linear-regression/)"
      ],
      "metadata": {
        "id": "2TO5To5UwRNV"
      }
    },
    {
      "cell_type": "code",
      "execution_count": 79,
      "metadata": {
        "id": "qPL-X8pBEr26"
      },
      "outputs": [],
      "source": [
        "def train_linear_regression(X, y):\n",
        "    ones = np.ones(X.shape[0])\n",
        "    X = np.column_stack([ones, X])\n",
        "\n",
        "    XTX = X.T.dot(X)\n",
        "    XTX_inv = np.linalg.inv(XTX)\n",
        "    w = XTX_inv.dot(X.T).dot(y)\n",
        "    \n",
        "    return w[0], w[1:]"
      ]
    },
    {
      "cell_type": "code",
      "execution_count": 80,
      "metadata": {
        "id": "vU7YiQT3Er27"
      },
      "outputs": [],
      "source": [
        "X_train = prepare_X(df_train)\n",
        "w_0, w = train_linear_regression(X_train, y_train)\n",
        "y_pred = w_0 + X_train.dot(w)"
      ]
    },
    {
      "cell_type": "code",
      "execution_count": 82,
      "metadata": {
        "id": "-KnTb9BhEr28",
        "colab": {
          "base_uri": "https://localhost:8080/",
          "height": 0
        },
        "outputId": "d4159b7c-0c9e-4d45-885a-7c728a8df99b"
      },
      "outputs": [
        {
          "output_type": "display_data",
          "data": {
            "text/plain": [
              "<Figure size 432x288 with 1 Axes>"
            ],
            "image/png": "[encoded data removed]"
          },
          "metadata": {
            "needs_background": "light"
          }
        }
      ],
      "source": [
        "sns.histplot(y_train, label='target')\n",
        "sns.histplot(y_pred, label='prediction', color='red')\n",
        "\n",
        "plt.legend()\n",
        "\n",
        "plt.ylabel('Frequency')\n",
        "plt.xlabel('Log(Price + 1)')\n",
        "plt.title('Predictions vs actual distribution')\n",
        "\n",
        "plt.show()"
      ]
    },
    {
      "cell_type": "code",
      "execution_count": 83,
      "metadata": {
        "id": "MKv9pzotEr28"
      },
      "outputs": [],
      "source": [
        "def rmse(y, y_pred):\n",
        "    error = y_pred - y\n",
        "    mse = (error ** 2).mean()\n",
        "    return np.sqrt(mse)"
      ]
    },
    {
      "cell_type": "code",
      "execution_count": 84,
      "metadata": {
        "id": "NzLR5q70Er28",
        "colab": {
          "base_uri": "https://localhost:8080/"
        },
        "outputId": "383db45b-335e-4e50-de75-ef147ba3d198"
      },
      "outputs": [
        {
          "output_type": "execute_result",
          "data": {
            "text/plain": [
              "0.7574439819012008"
            ]
          },
          "metadata": {},
          "execution_count": 84
        }
      ],
      "source": [
        "rmse(y_train, y_pred)"
      ]
    },
    {
      "cell_type": "code",
      "execution_count": 85,
      "metadata": {
        "id": "vG3bVXCLEr28"
      },
      "outputs": [],
      "source": [
        "X_val = prepare_X(df_val)\n",
        "y_pred = w_0 + X_val.dot(w)"
      ]
    },
    {
      "cell_type": "code",
      "execution_count": 86,
      "metadata": {
        "scrolled": true,
        "id": "PBF0RtIoEr29",
        "colab": {
          "base_uri": "https://localhost:8080/"
        },
        "outputId": "fa450420-24be-40ac-e121-b08b7b6cfd9e"
      },
      "outputs": [
        {
          "output_type": "execute_result",
          "data": {
            "text/plain": [
              "0.7502502346381938"
            ]
          },
          "metadata": {},
          "execution_count": 86
        }
      ],
      "source": [
        "rmse(y_val, y_pred)"
      ]
    },
    {
      "cell_type": "markdown",
      "metadata": {
        "id": "z_nmxDHLEr29"
      },
      "source": [
        "# Simple Feature Engineering"
      ]
    },
    {
      "cell_type": "markdown",
      "source": [
        "> To improve our model, we can create other features and add them to the existing features. This process is called `feature engineering`. \n",
        "\n",
        "        Our aim is to `improve the RMSE ` calculated on the validation data."
      ],
      "metadata": {
        "id": "B_vVwwQNzjmr"
      }
    },
    {
      "cell_type": "code",
      "execution_count": 87,
      "metadata": {
        "id": "PfSPp0IyEr29"
      },
      "outputs": [],
      "source": [
        "def prepare_X(df):\n",
        "    df = df.copy()\n",
        "    features = base.copy()\n",
        "\n",
        "    df['age'] = 2017 - df.year    # Because the dataset was created in 2017 (which we can verify by checking df_train.year.max())\n",
        "    features.append('age')\n",
        "\n",
        "    df_num = df[features]\n",
        "    df_num = df_num.fillna(df_num.mean())\n",
        "    X = df_num.values\n",
        "    return X"
      ]
    },
    {
      "cell_type": "code",
      "execution_count": 88,
      "metadata": {
        "id": "2OZcUFXhEr29",
        "colab": {
          "base_uri": "https://localhost:8080/"
        },
        "outputId": "0898509d-23b3-4c26-e212-5c83216767d5"
      },
      "outputs": [
        {
          "output_type": "stream",
          "name": "stdout",
          "text": [
            "Train RMSE:  0.5117454503079418\n",
            "Validation RMSE:  0.5070033906013028\n"
          ]
        }
      ],
      "source": [
        "X_train = prepare_X(df_train)\n",
        "w_0, w = train_linear_regression(X_train, y_train)\n",
        "y_pred = w_0 + X_train.dot(w)\n",
        "print('Train RMSE: ', rmse(y_train, y_pred))\n",
        "\n",
        "X_val = prepare_X(df_val)\n",
        "y_pred = w_0 + X_val.dot(w)\n",
        "print('Validation RMSE: ', rmse(y_val, y_pred))"
      ]
    },
    {
      "cell_type": "markdown",
      "source": [
        "> Adding “age” was quite helpful for the model"
      ],
      "metadata": {
        "id": "rUiEYLRd08WS"
      }
    },
    {
      "cell_type": "code",
      "execution_count": 89,
      "metadata": {
        "id": "B7xLFqCEEr29",
        "colab": {
          "base_uri": "https://localhost:8080/",
          "height": 0
        },
        "outputId": "7ee3519d-d47d-4a05-b1a9-a53a0d2303c6"
      },
      "outputs": [
        {
          "output_type": "display_data",
          "data": {
            "text/plain": [
              "<Figure size 432x288 with 1 Axes>"
            ],
            "image/png": "[encoded data removed]"
          },
          "metadata": {
            "needs_background": "light"
          }
        }
      ],
      "source": [
        "plt.figure(figsize=(6, 4))\n",
        "\n",
        "\n",
        "sns.histplot(y_val, label='target', color='blue', alpha=0.6, bins=40)\n",
        "sns.histplot(y_pred, label='prediction', color='green', alpha=0.8, bins=40)\n",
        "\n",
        "plt.legend()\n",
        "\n",
        "plt.ylabel('Frequency')\n",
        "plt.xlabel('Log(Price + 1)')\n",
        "plt.title('Predictions vs actual distribution')\n",
        "\n",
        "plt.show()"
      ]
    },
    {
      "cell_type": "markdown",
      "source": [
        "# Handling Categorical Variables"
      ],
      "metadata": {
        "id": "OXz9-CWf0yu0"
      }
    },
    {
      "cell_type": "markdown",
      "source": [
        "![](https://learning.oreilly.com/api/v2/epubs/urn:orm:book:9781617296819/files/OEBPS/Images/02_24.png)\n",
        "\n",
        "![](https://learning.oreilly.com/api/v2/epubs/urn:orm:book:9781617296819/files/OEBPS/Images/02_25.png)"
      ],
      "metadata": {
        "id": "vkJObc7X1iQT"
      }
    },
    {
      "cell_type": "code",
      "source": [
        "df['make'].value_counts().head(5)"
      ],
      "metadata": {
        "colab": {
          "base_uri": "https://localhost:8080/"
        },
        "id": "koim0X4PImoO",
        "outputId": "9270cfb0-7594-4c4f-b70a-3b7e99b96085"
      },
      "execution_count": 49,
      "outputs": [
        {
          "output_type": "execute_result",
          "data": {
            "text/plain": [
              "chevrolet     1123\n",
              "ford           881\n",
              "volkswagen     809\n",
              "toyota         746\n",
              "dodge          626\n",
              "Name: make, dtype: int64"
            ]
          },
          "metadata": {},
          "execution_count": 49
        }
      ]
    },
    {
      "cell_type": "code",
      "source": [
        "def prepare_X(df):\n",
        "    df = df.copy()\n",
        "    features = base.copy()\n",
        "\n",
        "    df['age'] = 2017 - df.year\n",
        "    features.append('age')\n",
        "\n",
        "    for v in [2, 3, 4]:\n",
        "        feature = 'num_doors_%s' % v\n",
        "        df[feature] = (df['number_of_doors'] == v).astype(int)\n",
        "        features.append(feature)\n",
        "\n",
        "    for v in ['chevrolet', 'ford', 'volkswagen', 'toyota', 'dodge']:\n",
        "        feature = 'is_make_%s' % v\n",
        "        df[feature] = (df['make'] == v).astype(int)\n",
        "        features.append(feature)\n",
        "\n",
        "    df_num = df[features]\n",
        "    df_num = df_num.fillna(0)\n",
        "    X = df_num.values\n",
        "    return X"
      ],
      "metadata": {
        "id": "6xxqMOTBIofH"
      },
      "execution_count": 50,
      "outputs": []
    },
    {
      "cell_type": "code",
      "source": [
        "X_train = prepare_X(df_train)\n",
        "print(X_train.sum())\n",
        "w_0, w = train_linear_regression(X_train, y_train)\n",
        "\n",
        "y_pred = w_0 + X_train.dot(w)\n",
        "print('train:', rmse(y_train, y_pred))\n",
        "\n",
        "X_val = prepare_X(df_val)\n",
        "y_pred = w_0 + X_val.dot(w)\n",
        "print('validation:', rmse(y_val, y_pred))"
      ],
      "metadata": {
        "colab": {
          "base_uri": "https://localhost:8080/"
        },
        "id": "xmL9kDcTItdo",
        "outputId": "5008ca99-3d2f-48fd-b8b7-a9922108e3f9"
      },
      "execution_count": 51,
      "outputs": [
        {
          "output_type": "stream",
          "name": "stdout",
          "text": [
            "13214510.0\n",
            "train: 0.5058876515487503\n",
            "validation: 0.5076038849556795\n"
          ]
        }
      ]
    },
    {
      "cell_type": "code",
      "source": [
        "df['engine_fuel_type'].value_counts()"
      ],
      "metadata": {
        "colab": {
          "base_uri": "https://localhost:8080/"
        },
        "id": "HBX0T2XDIyrZ",
        "outputId": "5444f0ff-d8be-4078-c1dd-14453c8af0ef"
      },
      "execution_count": 52,
      "outputs": [
        {
          "output_type": "execute_result",
          "data": {
            "text/plain": [
              "regular_unleaded                                7172\n",
              "premium_unleaded_(required)                     2009\n",
              "premium_unleaded_(recommended)                  1523\n",
              "flex-fuel_(unleaded/e85)                         899\n",
              "diesel                                           154\n",
              "electric                                          66\n",
              "flex-fuel_(premium_unleaded_required/e85)         54\n",
              "flex-fuel_(premium_unleaded_recommended/e85)      26\n",
              "flex-fuel_(unleaded/natural_gas)                   6\n",
              "natural_gas                                        2\n",
              "Name: engine_fuel_type, dtype: int64"
            ]
          },
          "metadata": {},
          "execution_count": 52
        }
      ]
    },
    {
      "cell_type": "code",
      "execution_count": 53,
      "metadata": {
        "id": "tm3q-jTOEr2-"
      },
      "outputs": [],
      "source": [
        "def prepare_X(df):\n",
        "    df = df.copy()\n",
        "    features = base.copy()\n",
        "\n",
        "    df['age'] = 2017 - df.year\n",
        "    features.append('age')\n",
        "    \n",
        "    for v in [2, 3, 4]:\n",
        "        feature = 'num_doors_%s' % v\n",
        "        df[feature] = (df['number_of_doors'] == v).astype(int)\n",
        "        features.append(feature)\n",
        "\n",
        "    for v in ['chevrolet', 'ford', 'volkswagen', 'toyota', 'dodge']:\n",
        "        feature = 'is_make_%s' % v\n",
        "        df[feature] = (df['make'] == v).astype(int)\n",
        "        features.append(feature)\n",
        "\n",
        "    for v in ['regular_unleaded', 'premium_unleaded_(required)', \n",
        "              'premium_unleaded_(recommended)', 'flex-fuel_(unleaded/e85)']:\n",
        "        feature = 'is_type_%s' % v\n",
        "        df[feature] = (df['engine_fuel_type'] == v).astype(int)\n",
        "        features.append(feature)\n",
        "        \n",
        "    df_num = df[features]\n",
        "    df_num = df_num.fillna(0)\n",
        "    X = df_num.values\n",
        "    return X"
      ]
    },
    {
      "cell_type": "code",
      "source": [
        "X_train = prepare_X(df_train)\n",
        "w_0, w = train_linear_regression(X_train, y_train)\n",
        "\n",
        "y_pred = w_0 + X_train.dot(w)\n",
        "print('train:', rmse(y_train, y_pred))\n",
        "\n",
        "X_val = prepare_X(df_val)\n",
        "y_pred = w_0 + X_val.dot(w)\n",
        "print('validation:', rmse(y_val, y_pred))"
      ],
      "metadata": {
        "colab": {
          "base_uri": "https://localhost:8080/"
        },
        "id": "BxXmtva_JCsT",
        "outputId": "47e945ea-d5a6-4008-fe95-65f615e28310"
      },
      "execution_count": 56,
      "outputs": [
        {
          "output_type": "stream",
          "name": "stdout",
          "text": [
            "train: 0.4788482615078598\n",
            "validation: 0.4748256737223095\n"
          ]
        }
      ]
    },
    {
      "cell_type": "code",
      "source": [
        "df['transmission_type'].value_counts()"
      ],
      "metadata": {
        "colab": {
          "base_uri": "https://localhost:8080/"
        },
        "id": "jHaQDLP5JVNB",
        "outputId": "294dcb7b-2c18-438c-803c-1e54eb99e4c7"
      },
      "execution_count": 58,
      "outputs": [
        {
          "output_type": "execute_result",
          "data": {
            "text/plain": [
              "automatic           8266\n",
              "manual              2935\n",
              "automated_manual     626\n",
              "direct_drive          68\n",
              "unknown               19\n",
              "Name: transmission_type, dtype: int64"
            ]
          },
          "metadata": {},
          "execution_count": 58
        }
      ]
    },
    {
      "cell_type": "code",
      "execution_count": 59,
      "metadata": {
        "id": "gCe7V9r-Er2_",
        "colab": {
          "base_uri": "https://localhost:8080/"
        },
        "outputId": "16162278-bc3f-45e5-8a9b-4de7f0316be7"
      },
      "outputs": [
        {
          "output_type": "execute_result",
          "data": {
            "text/plain": [
              "front_wheel_drive    4787\n",
              "rear_wheel_drive     3371\n",
              "all_wheel_drive      2353\n",
              "four_wheel_drive     1403\n",
              "Name: driven_wheels, dtype: int64"
            ]
          },
          "metadata": {},
          "execution_count": 59
        }
      ],
      "source": [
        "df['driven_wheels'].value_counts()"
      ]
    },
    {
      "cell_type": "code",
      "execution_count": 60,
      "metadata": {
        "id": "GSY3RUnbEr2_",
        "colab": {
          "base_uri": "https://localhost:8080/"
        },
        "outputId": "f2e5a54e-9a7a-4716-afac-5dbe24112cdc"
      },
      "outputs": [
        {
          "output_type": "execute_result",
          "data": {
            "text/plain": [
              "crossover             1110\n",
              "flex_fuel              872\n",
              "luxury                 855\n",
              "luxury,performance     673\n",
              "hatchback              641\n",
              "Name: market_category, dtype: int64"
            ]
          },
          "metadata": {},
          "execution_count": 60
        }
      ],
      "source": [
        "df['market_category'].value_counts().head(5)"
      ]
    },
    {
      "cell_type": "code",
      "execution_count": 61,
      "metadata": {
        "id": "gVH80umaEr2_",
        "colab": {
          "base_uri": "https://localhost:8080/"
        },
        "outputId": "c6be61ca-4fff-4912-8abb-b397200e5f05"
      },
      "outputs": [
        {
          "output_type": "execute_result",
          "data": {
            "text/plain": [
              "compact    4764\n",
              "midsize    4373\n",
              "large      2777\n",
              "Name: vehicle_size, dtype: int64"
            ]
          },
          "metadata": {},
          "execution_count": 61
        }
      ],
      "source": [
        "df['vehicle_size'].value_counts().head(5)"
      ]
    },
    {
      "cell_type": "code",
      "execution_count": 62,
      "metadata": {
        "id": "BCr9PtSlEr3A",
        "colab": {
          "base_uri": "https://localhost:8080/"
        },
        "outputId": "1b8ecda5-8717-481d-f337-4ecdd3ebe90d"
      },
      "outputs": [
        {
          "output_type": "execute_result",
          "data": {
            "text/plain": [
              "sedan            3048\n",
              "4dr_suv          2488\n",
              "coupe            1211\n",
              "convertible       793\n",
              "4dr_hatchback     702\n",
              "Name: vehicle_style, dtype: int64"
            ]
          },
          "metadata": {},
          "execution_count": 62
        }
      ],
      "source": [
        "df['vehicle_style'].value_counts().head(5)"
      ]
    },
    {
      "cell_type": "code",
      "execution_count": 65,
      "metadata": {
        "id": "YPzym1f1Er3A"
      },
      "outputs": [],
      "source": [
        "def prepare_X(df):\n",
        "    df = df.copy()\n",
        "    features = base.copy()\n",
        "\n",
        "    df['age'] = 2017 - df.year\n",
        "    features.append('age')\n",
        "    \n",
        "    for v in [2, 3, 4]:\n",
        "        feature = 'num_doors_%s' % v\n",
        "        df[feature] = (df['number_of_doors'] == v).astype(int)\n",
        "        features.append(feature)\n",
        "\n",
        "    for v in ['chevrolet', 'ford', 'volkswagen', 'toyota', 'dodge']:\n",
        "        feature = 'is_make_%s' % v\n",
        "        df[feature] = (df['make'] == v).astype(int)\n",
        "        features.append(feature)\n",
        "\n",
        "    for v in ['regular_unleaded', 'premium_unleaded_(required)', \n",
        "              'premium_unleaded_(recommended)', 'flex-fuel_(unleaded/e85)']:\n",
        "        feature = 'is_type_%s' % v\n",
        "        df[feature] = (df['engine_fuel_type'] == v).astype(int)\n",
        "        features.append(feature)\n",
        "\n",
        "    for v in ['automatic', 'manual', 'automated_manual']:\n",
        "        feature = 'is_transmission_%s' % v\n",
        "        df[feature] = (df['transmission_type'] == v).astype(int)\n",
        "        features.append(feature)\n",
        "        \n",
        "    df_num = df[features]\n",
        "    df_num = df_num.fillna(0)\n",
        "    X = df_num.values\n",
        "    return X"
      ]
    },
    {
      "cell_type": "code",
      "execution_count": 66,
      "metadata": {
        "id": "rrvhFhZPEr3A",
        "colab": {
          "base_uri": "https://localhost:8080/"
        },
        "outputId": "13432e08-78b5-4dec-eefc-2cb8fa5c35a3"
      },
      "outputs": [
        {
          "output_type": "stream",
          "name": "stdout",
          "text": [
            "train: 0.4745380510924003\n",
            "validation: 0.4685879194658534\n"
          ]
        }
      ],
      "source": [
        "X_train = prepare_X(df_train)\n",
        "w_0, w = train_linear_regression(X_train, y_train)\n",
        "\n",
        "y_pred = w_0 + X_train.dot(w)\n",
        "print('train:', rmse(y_train, y_pred))\n",
        "\n",
        "X_val = prepare_X(df_val)\n",
        "y_pred = w_0 + X_val.dot(w)\n",
        "print('validation:', rmse(y_val, y_pred))"
      ]
    },
    {
      "cell_type": "code",
      "source": [
        "def prepare_X(df):\n",
        "    df = df.copy()\n",
        "    features = base.copy()\n",
        "\n",
        "    df['age'] = 2017 - df.year\n",
        "    features.append('age')\n",
        "    \n",
        "    for v in [2, 3, 4]:\n",
        "        feature = 'num_doors_%s' % v\n",
        "        df[feature] = (df['number_of_doors'] == v).astype(int)\n",
        "        features.append(feature)\n",
        "\n",
        "    for v in ['chevrolet', 'ford', 'volkswagen', 'toyota', 'dodge']:\n",
        "        feature = 'is_make_%s' % v\n",
        "        df[feature] = (df['make'] == v).astype(int)\n",
        "        features.append(feature)\n",
        "\n",
        "    for v in ['regular_unleaded', 'premium_unleaded_(required)', \n",
        "              'premium_unleaded_(recommended)', 'flex-fuel_(unleaded/e85)']:\n",
        "        feature = 'is_type_%s' % v\n",
        "        df[feature] = (df['engine_fuel_type'] == v).astype(int)\n",
        "        features.append(feature)\n",
        "\n",
        "    for v in ['automatic', 'manual', 'automated_manual']:\n",
        "        feature = 'is_transmission_%s' % v\n",
        "        df[feature] = (df['transmission_type'] == v).astype(int)\n",
        "        features.append(feature)\n",
        "\n",
        "    for v in ['front_wheel_drive', 'rear_wheel_drive', 'all_wheel_drive', 'four_wheel_drive']:\n",
        "        feature = 'is_driven_wheens_%s' % v\n",
        "        df[feature] = (df['driven_wheels'] == v).astype(int)\n",
        "        features.append(feature)\n",
        "\n",
        "    for v in ['crossover', 'flex_fuel', 'luxury', 'luxury,performance', 'hatchback']:\n",
        "        feature = 'is_mc_%s' % v\n",
        "        df[feature] = (df['market_category'] == v).astype(int)\n",
        "        features.append(feature)\n",
        "\n",
        "    for v in ['compact', 'midsize', 'large']:\n",
        "        feature = 'is_size_%s' % v\n",
        "        df[feature] = (df['vehicle_size'] == v).astype(int)\n",
        "        features.append(feature)\n",
        "\n",
        "    for v in ['sedan', '4dr_suv', 'coupe', 'convertible', '4dr_hatchback']:\n",
        "        feature = 'is_style_%s' % v\n",
        "        df[feature] = (df['vehicle_style'] == v).astype(int)\n",
        "        features.append(feature)\n",
        "\n",
        "    df_num = df[features]\n",
        "    df_num = df_num.fillna(0)\n",
        "    X = df_num.values\n",
        "    return X"
      ],
      "metadata": {
        "id": "R1VkiQ6SJuwi"
      },
      "execution_count": 70,
      "outputs": []
    },
    {
      "cell_type": "code",
      "source": [
        "X_train = prepare_X(df_train)\n",
        "w_0, w = train_linear_regression(X_train, y_train)\n",
        "\n",
        "y_pred = w_0 + X_train.dot(w)\n",
        "print('train:', rmse(y_train, y_pred))\n",
        "\n",
        "X_val = prepare_X(df_val)\n",
        "y_pred = w_0 + X_val.dot(w)\n",
        "print('validation:', rmse(y_val, y_pred))"
      ],
      "metadata": {
        "colab": {
          "base_uri": "https://localhost:8080/"
        },
        "id": "NMox41WOJv75",
        "outputId": "ae4ffb60-87fb-4b50-af59-b20457f72a9a"
      },
      "execution_count": 71,
      "outputs": [
        {
          "output_type": "stream",
          "name": "stdout",
          "text": [
            "train: 113.20645472118994\n",
            "validation: 55.22691647401435\n"
          ]
        }
      ]
    },
    {
      "cell_type": "code",
      "source": [
        "w_0"
      ],
      "metadata": {
        "colab": {
          "base_uri": "https://localhost:8080/"
        },
        "id": "7MuSpMOvJ0ZB",
        "outputId": "2de844b1-0f9d-4925-ec4f-cb43e1813194"
      },
      "execution_count": 72,
      "outputs": [
        {
          "output_type": "execute_result",
          "data": {
            "text/plain": [
              "8115744691019874.0"
            ]
          },
          "metadata": {},
          "execution_count": 72
        }
      ]
    },
    {
      "cell_type": "markdown",
      "metadata": {
        "id": "n1KxC_LeEr3A"
      },
      "source": [
        "# Regularization"
      ]
    },
    {
      "cell_type": "code",
      "execution_count": 73,
      "metadata": {
        "id": "Zne8fecDEr3A"
      },
      "outputs": [],
      "source": [
        "def train_linear_regression_reg(X, y, r=0.0):\n",
        "    ones = np.ones(X.shape[0])\n",
        "    X = np.column_stack([ones, X])\n",
        "\n",
        "    XTX = X.T.dot(X)\n",
        "    reg = r * np.eye(XTX.shape[0])\n",
        "    XTX = XTX + reg\n",
        "\n",
        "    XTX_inv = np.linalg.inv(XTX)\n",
        "    w = XTX_inv.dot(X.T).dot(y)\n",
        "    \n",
        "    return w[0], w[1:]"
      ]
    },
    {
      "cell_type": "code",
      "execution_count": 74,
      "metadata": {
        "id": "-wQSVsicEr3A"
      },
      "outputs": [],
      "source": [
        "X_train = prepare_X(df_train)"
      ]
    },
    {
      "cell_type": "code",
      "execution_count": 75,
      "metadata": {
        "id": "hbDbtk7DEr3B",
        "colab": {
          "base_uri": "https://localhost:8080/"
        },
        "outputId": "bf0b0550-b142-4ff2-e4a7-bc032c44a855"
      },
      "outputs": [
        {
          "output_type": "stream",
          "name": "stdout",
          "text": [
            "    0, 8115744691019874.00, -7.10, -8115744691023588.00\n",
            "0.001, 7.20, -0.10, 1.81\n",
            " 0.01, 7.18, -0.10, 1.81\n",
            "  0.1, 7.05, -0.10, 1.78\n",
            "    1, 6.22, -0.10, 1.56\n",
            "   10, 4.39, -0.09, 1.08\n"
          ]
        }
      ],
      "source": [
        "for r in [0, 0.001, 0.01, 0.1, 1, 10]:\n",
        "    w_0, w = train_linear_regression_reg(X_train, y_train, r=r)\n",
        "    print('%5s, %.2f, %.2f, %.2f' % (r, w_0, w[13], w[21]))"
      ]
    },
    {
      "cell_type": "code",
      "execution_count": 76,
      "metadata": {
        "id": "hNRBq-HGEr3B",
        "colab": {
          "base_uri": "https://localhost:8080/"
        },
        "outputId": "fccc3fb5-d627-4875-a5af-c1716811d119"
      },
      "outputs": [
        {
          "output_type": "stream",
          "name": "stdout",
          "text": [
            "train 113.20645472118994\n",
            "val 55.22691647401435\n"
          ]
        }
      ],
      "source": [
        "X_train = prepare_X(df_train)\n",
        "w_0, w = train_linear_regression_reg(X_train, y_train, r=0)\n",
        "\n",
        "y_pred = w_0 + X_train.dot(w)\n",
        "print('train', rmse(y_train, y_pred))\n",
        "\n",
        "X_val = prepare_X(df_val)\n",
        "y_pred = w_0 + X_val.dot(w)\n",
        "print('val', rmse(y_val, y_pred))"
      ]
    },
    {
      "cell_type": "code",
      "execution_count": 77,
      "metadata": {
        "id": "9P7qlRyfEr3B",
        "colab": {
          "base_uri": "https://localhost:8080/"
        },
        "outputId": "1c357f2a-ed0b-42b9-b2fc-7e89112ab9de"
      },
      "outputs": [
        {
          "output_type": "stream",
          "name": "stdout",
          "text": [
            "train 0.464312489456461\n",
            "val 0.4602394963124682\n"
          ]
        }
      ],
      "source": [
        "X_train = prepare_X(df_train)\n",
        "w_0, w = train_linear_regression_reg(X_train, y_train, r=0.01)\n",
        "\n",
        "y_pred = w_0 + X_train.dot(w)\n",
        "print('train', rmse(y_train, y_pred))\n",
        "\n",
        "X_val = prepare_X(df_val)\n",
        "y_pred = w_0 + X_val.dot(w)\n",
        "print('val', rmse(y_val, y_pred))"
      ]
    },
    {
      "cell_type": "code",
      "execution_count": 78,
      "metadata": {
        "id": "DhwNLU9pEr3B",
        "colab": {
          "base_uri": "https://localhost:8080/"
        },
        "outputId": "48807443-d9ed-463d-d2cc-97ce8b11a85c"
      },
      "outputs": [
        {
          "output_type": "stream",
          "name": "stdout",
          "text": [
            " 1e-06 0.4602251277547402\n",
            "0.0001 0.4602254931319512\n",
            " 0.001 0.4602267628312077\n",
            "  0.01 0.4602394963124682\n",
            "   0.1 0.4603700695819783\n",
            "     1 0.4618298042652329\n",
            "     5 0.46840796275321883\n",
            "    10 0.4757248100695211\n"
          ]
        }
      ],
      "source": [
        "X_train = prepare_X(df_train)\n",
        "X_val = prepare_X(df_val)\n",
        "\n",
        "for r in [0.000001, 0.0001, 0.001, 0.01, 0.1, 1, 5, 10]:\n",
        "    w_0, w = train_linear_regression_reg(X_train, y_train, r=r)\n",
        "    y_pred = w_0 + X_val.dot(w)\n",
        "    print('%6s' %r, rmse(y_val, y_pred))"
      ]
    },
    {
      "cell_type": "code",
      "execution_count": 79,
      "metadata": {
        "id": "D2ulDOKjEr3B",
        "colab": {
          "base_uri": "https://localhost:8080/"
        },
        "outputId": "85be1e71-d96c-4e6e-aa9e-23167e46abe2"
      },
      "outputs": [
        {
          "output_type": "stream",
          "name": "stdout",
          "text": [
            "validation: 0.4602394963124682\n",
            "test: 0.4571813679271304\n"
          ]
        }
      ],
      "source": [
        "X_train = prepare_X(df_train)\n",
        "w_0, w = train_linear_regression_reg(X_train, y_train, r=0.01)\n",
        "\n",
        "X_val = prepare_X(df_val)\n",
        "y_pred = w_0 + X_val.dot(w)\n",
        "print('validation:', rmse(y_val, y_pred))\n",
        "\n",
        "X_test = prepare_X(df_test)\n",
        "y_pred = w_0 + X_test.dot(w)\n",
        "print('test:', rmse(y_test, y_pred))"
      ]
    },
    {
      "cell_type": "markdown",
      "metadata": {
        "id": "ZEqs0oPkEr3B"
      },
      "source": [
        "# Using the model"
      ]
    },
    {
      "cell_type": "code",
      "execution_count": 80,
      "metadata": {
        "id": "WGbWVXqbEr3B",
        "colab": {
          "base_uri": "https://localhost:8080/"
        },
        "outputId": "f1094cb7-de56-49b2-e751-53d0056ba37f"
      },
      "outputs": [
        {
          "output_type": "execute_result",
          "data": {
            "text/plain": [
              "{'city_mpg': 18,\n",
              " 'driven_wheels': 'all_wheel_drive',\n",
              " 'engine_cylinders': 6.0,\n",
              " 'engine_fuel_type': 'regular_unleaded',\n",
              " 'engine_hp': 268.0,\n",
              " 'highway_mpg': 25,\n",
              " 'log_price': 10.345638111452145,\n",
              " 'make': 'toyota',\n",
              " 'market_category': 'crossover,performance',\n",
              " 'model': 'venza',\n",
              " 'number_of_doors': 4.0,\n",
              " 'popularity': 2031,\n",
              " 'price': 31120,\n",
              " 'transmission_type': 'automatic',\n",
              " 'vehicle_size': 'midsize',\n",
              " 'vehicle_style': 'wagon',\n",
              " 'year': 2013}"
            ]
          },
          "metadata": {},
          "execution_count": 80
        }
      ],
      "source": [
        "i = 2\n",
        "ad = df_test.iloc[i].to_dict()\n",
        "ad"
      ]
    },
    {
      "cell_type": "code",
      "execution_count": 81,
      "metadata": {
        "id": "75q3HcJhEr3C",
        "colab": {
          "base_uri": "https://localhost:8080/"
        },
        "outputId": "57340c21-3199-4a14-a0b9-f0c4c35c7de8"
      },
      "outputs": [
        {
          "output_type": "execute_result",
          "data": {
            "text/plain": [
              "28294.135929457443"
            ]
          },
          "metadata": {},
          "execution_count": 81
        }
      ],
      "source": [
        "X_test = prepare_X(pd.DataFrame([ad]))[0]\n",
        "y_pred = w_0 + X_test.dot(w)\n",
        "suggestion = np.expm1(y_pred)\n",
        "suggestion"
      ]
    }
  ],
  "metadata": {
    "anaconda-cloud": {},
    "kernelspec": {
      "display_name": "Python 3",
      "language": "python",
      "name": "python3"
    },
    "language_info": {
      "codemirror_mode": {
        "name": "ipython",
        "version": 3
      },
      "file_extension": ".py",
      "mimetype": "text/x-python",
      "name": "python",
      "nbconvert_exporter": "python",
      "pygments_lexer": "ipython3",
      "version": "3.8.8"
    },
    "colab": {
      "name": "Regression : Car Price Prediction.ipynb",
      "provenance": [],
      "collapsed_sections": [
        "tzEhgPoeKxx4",
        "kWtF-4PhEr22",
        "zz2qJdZONOVP",
        "gmpIhRh6-l2D",
        "nox23Sx64p6H",
        "_-gY5uit8MAA",
        "wq4akXYj7yGB",
        "3nxX_JHg5wxy",
        "jiDiJFIF65rR",
        "03TwrE4tEr25",
        "YzJmvVcOEr27",
        "n1Rhgwu3wE0B",
        "YdM8MF2UEr26",
        "z_nmxDHLEr29",
        "OXz9-CWf0yu0",
        "n1KxC_LeEr3A",
        "ZEqs0oPkEr3B"
      ],
      "include_colab_link": true
    }
  },
  "nbformat": 4,
  "nbformat_minor": 0
}